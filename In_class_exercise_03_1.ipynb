{
  "cells": [
    {
      "cell_type": "markdown",
      "metadata": {
        "id": "view-in-github",
        "colab_type": "text"
      },
      "source": [
        "<a href=\"https://colab.research.google.com/github/Muppasaisrija/Muppa_NFO5731_-SPRING2022/blob/main/In_class_exercise_03_1.ipynb\" target=\"_parent\"><img src=\"https://colab.research.google.com/assets/colab-badge.svg\" alt=\"Open In Colab\"/></a>"
      ]
    },
    {
      "cell_type": "markdown",
      "metadata": {
        "id": "TjEcB2_zmb5C"
      },
      "source": [
        "## The third In-class-exercise (2/22/2022, 40 points in total)"
      ]
    },
    {
      "cell_type": "markdown",
      "metadata": {
        "id": "njC8v9YFmb5G"
      },
      "source": [
        "The purpose of this exercise is to understand text representation."
      ]
    },
    {
      "cell_type": "markdown",
      "metadata": {
        "id": "_xfhcbxTmb5I"
      },
      "source": [
        "Question 1 (10 points): Describe an interesting text classification or text mining task and explain what kind of features might be useful for you to build the machine learning model. List your features and explain why these features might be helpful. You need to list at least five different types of features."
      ]
    },
    {
      "cell_type": "code",
      "execution_count": null,
      "metadata": {
        "id": "bf3HUFd5mb5K"
      },
      "outputs": [],
      "source": [
        "An interesting task performed by text classification is sentiment analysis,spam detection, topic labelling,this classifies data whether it is  good or bad.\n",
        "Features that can be useful to build the machine learning algorithm SVM, deep learning, NLP\n",
        "1.Entity feature\n",
        "2. Tfidf \n",
        "3.Linguistic feature extraction\n",
        "4.Dependency Parse \n",
        "5.Word2vec features \n"
      ]
    },
    {
      "cell_type": "markdown",
      "metadata": {
        "id": "rYyDyJyvmb5M"
      },
      "source": [
        "Question 2 (20 points): Write python code to extract these features you discussed above. You can collect a few sample text data for the feature extraction. "
      ]
    },
    {
      "cell_type": "code",
      "source": [
        "import nltk\n",
        "\n",
        "from bs4 import BeautifulSoup as bs\n",
        "import pandas as pd\n",
        "import requests as rq\n",
        "import matplotlib.pyplot as plt\n",
        "import nltk\n",
        "from wordcloud import WordCloud\n",
        "from nltk.corpus import stopwords\n",
        "\n",
        "\n",
        "#collecting sample text data from IMDb \"BheemlaNaik movie reviews\"\n",
        "\n",
        "#assigining the URL to a varilable \n",
        "url = 'https://twitter.com/hashtag/moviereview'\n",
        "\n",
        "#Creating a data frame with one column to store text of reviews\n",
        "data_frame = pd.DataFrame(columns=['Review'])\n",
        "req = rq.get(url).text\n",
        "soup = bs(req,'html.parser')\n",
        "\n",
        "#collecting reviews text\n",
        "review_text = soup.find_all('div', attrs={'class' : 'text show-more__control'})\n",
        "\n",
        "#creating a empty list\n",
        "review_list = []\n",
        "for i in range(len(review_text)):\n",
        "    review_list.append(review_text[i].get_text())\n",
        "\n",
        "#assigining list to the data frame    \n",
        "data_frame['Review'] = review_list\n",
        "\n",
        "data_frame['word_count'] = data_frame['Review'].apply(lambda x: len(str(x).split(\" \")))\n",
        "data_frame[['Review','word_count']].head()\n",
        "data_frame['char_count'] = data_frame['Review'].str.len() ## this also includes spaces\n",
        "data_frame[['Review','char_count']].head()\n",
        "def avg_word(sentence):\n",
        "  words = sentence.split()\n",
        "  return (sum(len(word) for word in words)/len(words))\n",
        "\n",
        "  data_frame['avg_word'] = data_frame['Review'].apply(lambda x: avg_word(x))\n",
        "data_frame[['Review','avg_word']].head()\n",
        "from nltk.corpus import stopwords\n",
        "\n",
        "import nltk\n",
        "nltk.download('stopwords')\n",
        "stop = stopwords.words('english')\n",
        "\n",
        "data_frame['stopwords'] = data_frame['Review'].apply(lambda x: len([x for x in x.split() if x in stop]))\n",
        "data_frame[['Review','stopwords']].head()\n",
        "data_frame['hastags'] = data_frame['Review'].apply(lambda x: len([x for x in x.split() if x.startswith('#')]))\n",
        "data_frame[['Review','hastags']].head()\n",
        "data_frame['numerics'] = data_frame['Review'].apply(lambda x: len([x for x in x.split() if x.isdigit()]))\n",
        "data_frame[['Review','numerics']].head()\n",
        "data_frame['upper'] = data_frame['Review'].apply(lambda x: len([x for x in x.split() if x.isupper()]))\n",
        "data_frame[['Review','upper']].head()\n"
      ],
      "metadata": {
        "id": "FFw9g2q6sYh4"
      },
      "execution_count": null,
      "outputs": []
    },
    {
      "cell_type": "code",
      "source": [
        ""
      ],
      "metadata": {
        "id": "MbjoKXaYsMPX"
      },
      "execution_count": null,
      "outputs": []
    },
    {
      "cell_type": "markdown",
      "metadata": {
        "id": "W2c06Wmomb5P"
      },
      "source": [
        "Question 3 (10 points): Use any of the feature selection methods mentioned in this paper \"Deng, X., Li, Y., Weng, J., & Zhang, J. (2019). Feature selection for text classification: A review. Multimedia Tools & Applications, 78(3).\" Select the most important features you extracted above, rank the features based on their importance in the descending order. "
      ]
    },
    {
      "cell_type": "code",
      "execution_count": null,
      "metadata": {
        "id": "AGa0M9D8mb5Q"
      },
      "outputs": [],
      "source": [
        "\n",
        "\n",
        "\n",
        "\n",
        "\n"
      ]
    }
  ],
  "metadata": {
    "kernelspec": {
      "display_name": "Python 3",
      "language": "python",
      "name": "python3"
    },
    "language_info": {
      "codemirror_mode": {
        "name": "ipython",
        "version": 3
      },
      "file_extension": ".py",
      "mimetype": "text/x-python",
      "name": "python",
      "nbconvert_exporter": "python",
      "pygments_lexer": "ipython3",
      "version": "3.8.5"
    },
    "colab": {
      "name": "In-class-exercise-03-1.ipynb",
      "provenance": [],
      "include_colab_link": true
    }
  },
  "nbformat": 4,
  "nbformat_minor": 0
}