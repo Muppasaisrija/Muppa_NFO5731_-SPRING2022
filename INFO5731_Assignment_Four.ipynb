{
  "cells": [
    {
      "cell_type": "markdown",
      "metadata": {
        "id": "view-in-github",
        "colab_type": "text"
      },
      "source": [
        "<a href=\"https://colab.research.google.com/github/Muppasaisrija/Muppa_NFO5731_-SPRING2022/blob/main/INFO5731_Assignment_Four.ipynb\" target=\"_parent\"><img src=\"https://colab.research.google.com/assets/colab-badge.svg\" alt=\"Open In Colab\"/></a>"
      ]
    },
    {
      "cell_type": "markdown",
      "metadata": {
        "id": "USSdXHuqnwv9"
      },
      "source": [
        "# **INFO5731 Assignment Four**\n",
        "\n",
        "In this assignment, you are required to conduct topic modeling, sentiment analysis, and regression analysis."
      ]
    },
    {
      "cell_type": "markdown",
      "metadata": {
        "id": "YWxodXh5n4xF"
      },
      "source": [
        "# **Question 1: Topic Modeling**"
      ]
    },
    {
      "cell_type": "markdown",
      "metadata": {
        "id": "TenBkDJ5n95k"
      },
      "source": [
        "(30 points). This question is designed to help you develop a feel for the way topic modeling works, the connection to the human meanings of documents. Based on the dataset from assignment three, write a python program to **identify the top 10 topics in the dataset**. Before answering this question, please review the materials in lesson 8, especially the code for LDA and LSA. The following information should be reported:\n",
        "\n",
        "(1) Features (top n-gram phrases) used for topic modeling.\n",
        "\n",
        "(2) Top 10 clusters for topic modeling.\n",
        "\n",
        "(3) Summarize and describe the topic for each cluster. \n"
      ]
    },
    {
      "cell_type": "code",
      "execution_count": null,
      "metadata": {
        "id": "PuFPKhC0m1fd"
      },
      "outputs": [],
      "source": [
        "import warnings\n",
        "warnings.filterwarnings(\"ignore\",category=DeprecationWarning)\n",
        "import pandas as pd\n",
        "data = pd.read_csv(\"/content/train_data.csv\")\n",
        "data = data.head(10000)\n",
        "from nltk.tokenize import RegexpTokenizer\n",
        "from stop_words import get_stop_words\n",
        "from nltk.stem.porter import PorterStemmer\n",
        "tokenizer = RegexpTokenizer(r'\\w+')\n",
        "en_stop = get_stop_words('en')\n",
        "p_stemmer = PorterStemmer()\n",
        "data['Lower Case'] = data['text'].apply(lambda x: \" \".join(x.lower() for x in str(x).split()))\n",
        "data['Tokenization'] = data['Lower Case'].apply(lambda x: tokenizer.tokenize(x))\n",
        "data['Tokens'] = data['Tokenization'].apply(lambda x: [i for i in x if not i in en_stop])\n",
        "data['Stemming'] = data['Tokens'].apply(lambda x: [p_stemmer.stem(i) for i in x])"
      ]
    },
    {
      "cell_type": "code",
      "execution_count": null,
      "metadata": {
        "colab": {
          "base_uri": "https://localhost:8080/"
        },
        "id": "dpHrTkjk0hq1",
        "outputId": "e93eec46-f9a0-4f27-84c4-6d0e5cc7b681"
      },
      "outputs": [
        {
          "name": "stderr",
          "output_type": "stream",
          "text": [
            "/usr/local/lib/python3.6/dist-packages/gensim/models/phrases.py:598: UserWarning: For a faster implementation, use the gensim.models.phrases.Phraser class\n",
            "  warnings.warn(\"For a faster implementation, use the gensim.models.phrases.Phraser class\")\n"
          ]
        },
        {
          "name": "stdout",
          "output_type": "stream",
          "text": [
            "['someon', 'work', 'mani', 'museum', 'eager', 'visit', 'galleri', 'recent', 'trip', 'la_vega', 'saw', 'show', 'infam', 'egg', 'hous', 'faberg', 'virginia', 'museum', 'fine', 'art', 'vmfa', 'knew', 'go', 'tuck_away', 'near', 'gelateria', 'garden', 'galleri', 'pretti', 'much', 'hidden', 'view', 's', 'real_estat_agent', 'call', 'cozi', 'charm', 'basic', 'euphem', 'small', 'said', 'can', 'still', 'see', 'wonder', 'art_galleri', 'size', 'two', 's', 'ask', 'let', 'tell', 'price', 'rel', 'inexpens', 'la_vega', 'attract', 'complet', 'top', 'space', 'amount', 'art', 'can', 'fit', 'bit', 'much', 's', 'kid', 'friendli', 'serious', 'don', 't', 'bring', 'secur', 'train', 'properli', 'show', 'curat', 'design', 'team', 'collabor', 'exhibit', 'definit', 'flow', 'mean', 'visitor', 'view', 'art', 'certain', 'sequenc', 'whether', 'histor', 'period', 'cultur', 'signific', 'audio', 'guid', 'usual', 'develop', 'arriv', 'galleri', 'tell', 'start', 'secur', 'certainli', 'help', 'told', 'just', 'look', 'around', 'whatev', 'fine', 'institut', 'find', 'lack', 'knowledg', 'respect', 'art', 'appal']\n"
          ]
        }
      ],
      "source": [
        "texts = []\n",
        "for line in data['Stemming']:\n",
        "  texts.append(line)\n",
        "from gensim import corpora, models\n",
        "bigram = models.Phrases(texts, min_count=5, threshold=100)\n",
        "trigram = models.Phrases(bigram[texts], threshold=100)\n",
        "bigram_mod = models.phrases.Phraser(bigram)\n",
        "trigram_mod = models.phrases.Phraser(trigram)\n",
        "print(trigram_mod[bigram_mod[texts[0]]])"
      ]
    },
    {
      "cell_type": "code",
      "execution_count": null,
      "metadata": {
        "id": "NNnNhz6b1rdN"
      },
      "outputs": [],
      "source": [
        "def make_bigrams(texts):\n",
        "    return [bigram_mod[doc] for doc in texts]\n",
        "def make_trigrams(texts):\n",
        "    return [trigram_mod[bigram_mod[doc]] for doc in texts]"
      ]
    },
    {
      "cell_type": "code",
      "execution_count": null,
      "metadata": {
        "id": "VHDUGXON1xWi"
      },
      "outputs": [],
      "source": [
        "def lemmatization(texts, allowed_postags=['NOUN', 'ADJ', 'VERB', 'ADV']):\n",
        "    texts_out = []\n",
        "    for sent in texts:\n",
        "        doc = nlp(\" \".join(sent)) \n",
        "        texts_out.append([token.lemma_ for token in doc if token.pos_ in allowed_postags])\n",
        "    return texts_out"
      ]
    },
    {
      "cell_type": "code",
      "execution_count": null,
      "metadata": {
        "colab": {
          "base_uri": "https://localhost:8080/"
        },
        "id": "L8RiPV0K2vsK",
        "outputId": "26490e49-a787-4396-befa-bb22fd17bb1c"
      },
      "outputs": [
        {
          "name": "stdout",
          "output_type": "stream",
          "text": [
            "[['someon', 'eager', 'visit', 'recent', 'trip', 'see', 'show', 'infam', 'egg', 'hous', 'fine', 'art', 'vmfa', 'know', 'go', 'gelateria', 'garden', 'galleri', 'pretti', 'much', 'hidden', 'view', 'agent', 'call', 'cozi', 'charm', 'basic', 'small', 'say', 'can', 'still', 'see', 'wonder', 'size', 's', 'ask', 'let', 'tell', 'price', 'complet', 'top', 'space', 'amount', 'art', 'can', 'fit', 'bit', 'much', 'kid', 'serious', 'bring', 'train', 'design', 'team', 'collabor', 'exhibit', 'definit', 'flow', 'visitor', 'view', 'art', 'certain', 'sequenc', 'histor', 'period', 'audio', 'usual', 'develop', 'help', 'tell', 'just', 'look', 'fine', 'institut', 'find', 'lack', 'respect']]\n"
          ]
        }
      ],
      "source": [
        "import spacy\n",
        "data_words_bigrams = make_bigrams(texts)\n",
        "nlp = spacy.load('en', disable=['parser', 'ner'])\n",
        "data_lemmatized = lemmatization(data_words_bigrams, allowed_postags=['NOUN', 'ADJ', 'VERB', 'ADV'])\n",
        "print(data_lemmatized[:1])"
      ]
    },
    {
      "cell_type": "code",
      "execution_count": null,
      "metadata": {
        "colab": {
          "base_uri": "https://localhost:8080/"
        },
        "id": "vOqMoKR3yGmx",
        "outputId": "079feb47-b27b-4ac0-f79b-95342aec640a"
      },
      "outputs": [
        {
          "name": "stdout",
          "output_type": "stream",
          "text": [
            "[[(0, 1), (1, 1), (2, 3), (3, 1), (4, 1), (5, 1), (6, 1), (7, 1), (8, 1), (9, 2), (10, 1), (11, 1), (12, 1), (13, 1), (14, 1), (15, 1), (16, 1), (17, 1), (18, 1), (19, 1), (20, 1), (21, 1), (22, 2), (23, 1), (24, 1), (25, 1), (26, 1), (27, 1), (28, 1), (29, 1), (30, 1), (31, 1), (32, 1), (33, 1), (34, 1), (35, 1), (36, 1), (37, 1), (38, 1), (39, 1), (40, 1), (41, 2), (42, 1), (43, 1), (44, 1), (45, 1), (46, 1), (47, 1), (48, 1), (49, 2), (50, 1), (51, 1), (52, 1), (53, 1), (54, 1), (55, 1), (56, 1), (57, 1), (58, 1), (59, 2), (60, 1), (61, 1), (62, 1), (63, 1), (64, 2), (65, 1), (66, 1), (67, 1), (68, 1)]]\n"
          ]
        }
      ],
      "source": [
        "id2word = corpora.Dictionary(data_lemmatized)\n",
        "texts = data_lemmatized\n",
        "corpus = [id2word.doc2bow(text) for text in texts]\n",
        "print(corpus[:1])"
      ]
    },
    {
      "cell_type": "code",
      "execution_count": null,
      "metadata": {
        "colab": {
          "base_uri": "https://localhost:8080/"
        },
        "id": "vIVNxeX637TF",
        "outputId": "ffa0ed7d-1215-41bf-fd35-aa97ce6c3f00"
      },
      "outputs": [
        {
          "data": {
            "text/plain": [
              "[[('agent', 1),\n",
              "  ('amount', 1),\n",
              "  ('art', 3),\n",
              "  ('ask', 1),\n",
              "  ('audio', 1),\n",
              "  ('basic', 1),\n",
              "  ('bit', 1),\n",
              "  ('bring', 1),\n",
              "  ('call', 1),\n",
              "  ('can', 2),\n",
              "  ('certain', 1),\n",
              "  ('charm', 1),\n",
              "  ('collabor', 1),\n",
              "  ('complet', 1),\n",
              "  ('cozi', 1),\n",
              "  ('definit', 1),\n",
              "  ('design', 1),\n",
              "  ('develop', 1),\n",
              "  ('eager', 1),\n",
              "  ('egg', 1),\n",
              "  ('exhibit', 1),\n",
              "  ('find', 1),\n",
              "  ('fine', 2),\n",
              "  ('fit', 1),\n",
              "  ('flow', 1),\n",
              "  ('galleri', 1),\n",
              "  ('garden', 1),\n",
              "  ('gelateria', 1),\n",
              "  ('go', 1),\n",
              "  ('help', 1),\n",
              "  ('hidden', 1),\n",
              "  ('histor', 1),\n",
              "  ('hous', 1),\n",
              "  ('infam', 1),\n",
              "  ('institut', 1),\n",
              "  ('just', 1),\n",
              "  ('kid', 1),\n",
              "  ('know', 1),\n",
              "  ('lack', 1),\n",
              "  ('let', 1),\n",
              "  ('look', 1),\n",
              "  ('much', 2),\n",
              "  ('period', 1),\n",
              "  ('pretti', 1),\n",
              "  ('price', 1),\n",
              "  ('recent', 1),\n",
              "  ('respect', 1),\n",
              "  ('s', 1),\n",
              "  ('say', 1),\n",
              "  ('see', 2),\n",
              "  ('sequenc', 1),\n",
              "  ('serious', 1),\n",
              "  ('show', 1),\n",
              "  ('size', 1),\n",
              "  ('small', 1),\n",
              "  ('someon', 1),\n",
              "  ('space', 1),\n",
              "  ('still', 1),\n",
              "  ('team', 1),\n",
              "  ('tell', 2),\n",
              "  ('top', 1),\n",
              "  ('train', 1),\n",
              "  ('trip', 1),\n",
              "  ('usual', 1),\n",
              "  ('view', 2),\n",
              "  ('visit', 1),\n",
              "  ('visitor', 1),\n",
              "  ('vmfa', 1),\n",
              "  ('wonder', 1)]]"
            ]
          },
          "execution_count": 19,
          "metadata": {
            "tags": []
          },
          "output_type": "execute_result"
        }
      ],
      "source": [
        "[[(id2word[id], freq) for id, freq in cp] for cp in corpus[:1]]"
      ]
    },
    {
      "cell_type": "markdown",
      "metadata": {
        "id": "Z7IYl6x6_I4k"
      },
      "source": [
        "# The lda model"
      ]
    },
    {
      "cell_type": "code",
      "execution_count": null,
      "metadata": {
        "id": "4Q-h8373ziS6"
      },
      "outputs": [],
      "source": [
        "lda_model = models.ldamodel.LdaModel(corpus=corpus,\n",
        "                                           id2word=id2word,\n",
        "                                           num_topics = 20, \n",
        "                                           random_state=100,\n",
        "                                           update_every=1,\n",
        "                                           chunksize=100,\n",
        "                                           passes=10,\n",
        "                                           alpha='auto',\n",
        "                                           per_word_topics=True)"
      ]
    },
    {
      "cell_type": "code",
      "execution_count": null,
      "metadata": {
        "colab": {
          "base_uri": "https://localhost:8080/"
        },
        "id": "_WLkOiLe36ok",
        "outputId": "696bc94f-ebed-4c42-c316-236bdfea524d"
      },
      "outputs": [
        {
          "name": "stdout",
          "output_type": "stream",
          "text": [
            "[(0,\n",
            "  '0.136*\"room\" + 0.091*\"stay\" + 0.059*\"insid\" + 0.055*\"hotel\" + 0.042*\"wasn\" '\n",
            "  '+ 0.030*\"weekend\" + 0.027*\"crowd\" + 0.020*\"cake\" + 0.020*\"casino\" + '\n",
            "  '0.018*\"bathroom\"'),\n",
            " (1,\n",
            "  '0.040*\"go\" + 0.039*\"good\" + 0.035*\"place\" + 0.031*\"time\" + 0.030*\"get\" + '\n",
            "  '0.027*\"come\" + 0.025*\"great\" + 0.024*\"will\" + 0.023*\"just\" + 0.022*\"make\"'),\n",
            " (2,\n",
            "  '0.111*\"store\" + 0.083*\"dog\" + 0.058*\"understand\" + 0.042*\"mention\" + '\n",
            "  '0.028*\"honestli\" + 0.025*\"tire\" + 0.024*\"mani\" + 0.022*\"smell\" + '\n",
            "  '0.018*\"afternoon\" + 0.017*\"cloth\"'),\n",
            " (3,\n",
            "  '0.137*\"special\" + 0.062*\"play\" + 0.033*\"pricey\" + 0.028*\"event\" + '\n",
            "  '0.026*\"doctor\" + 0.023*\"fee\" + 0.022*\"straight\" + 0.018*\"bone\" + '\n",
            "  '0.017*\"child\" + 0.016*\"detail\"'),\n",
            " (4,\n",
            "  '0.035*\"hold\" + 0.034*\"pool\" + 0.032*\"offic\" + 0.028*\"origin\" + '\n",
            "  '0.025*\"follow\" + 0.020*\"young\" + 0.019*\"corner\" + 0.018*\"wear\" + '\n",
            "  '0.017*\"cashier\" + 0.017*\"forev\"'),\n",
            " (5,\n",
            "  '0.023*\"hear\" + 0.022*\"deal\" + 0.016*\"impress\" + 0.015*\"soon\" + '\n",
            "  '0.015*\"burger\" + 0.015*\"local\" + 0.014*\"birthday\" + 0.013*\"cost\" + '\n",
            "  '0.012*\"cold\" + 0.011*\"product\"'),\n",
            " (6,\n",
            "  '0.164*\"price\" + 0.074*\"clean\" + 0.068*\"last\" + 0.065*\"stop\" + '\n",
            "  '0.063*\"reason\" + 0.049*\"week\" + 0.048*\"buy\" + 0.040*\"roll\" + 0.025*\"wine\" + '\n",
            "  '0.023*\"real\"'),\n",
            " (7,\n",
            "  '0.102*\"do\" + 0.063*\"job\" + 0.051*\"nail\" + 0.036*\"fix\" + 0.035*\"expen\" + '\n",
            "  '0.033*\"door\" + 0.027*\"mean\" + 0.023*\"question\" + 0.023*\"abl\" + '\n",
            "  '0.022*\"wish\"'),\n",
            " (8,\n",
            "  '0.107*\"work\" + 0.091*\"call\" + 0.081*\"day\" + 0.061*\"custom\" + 0.033*\"shop\" + '\n",
            "  '0.032*\"care\" + 0.026*\"plea\" + 0.021*\"phone\" + 0.021*\"charg\" + '\n",
            "  '0.019*\"regular\"'),\n",
            " (9,\n",
            "  '0.088*\"show\" + 0.077*\"car\" + 0.063*\"problem\" + 0.031*\"chine\" + 0.025*\"drop\" '\n",
            "  '+ 0.025*\"cover\" + 0.022*\"contact\" + 0.021*\"sound\" + 0.019*\"pull\" + '\n",
            "  '0.018*\"absolut\"'),\n",
            " (10,\n",
            "  '0.057*\"offer\" + 0.055*\"away\" + 0.051*\"free\" + 0.033*\"parti\" + 0.032*\"talk\" '\n",
            "  '+ 0.031*\"extra\" + 0.031*\"d\" + 0.030*\"girl\" + 0.028*\"sandwich\" + '\n",
            "  '0.026*\"chip\"'),\n",
            " (11,\n",
            "  '0.095*\"meat\" + 0.062*\"fish\" + 0.051*\"steak\" + 0.041*\"slow\" + 0.038*\"group\" '\n",
            "  '+ 0.037*\"cour\" + 0.036*\"stand\" + 0.029*\"serious\" + 0.027*\"wing\" + '\n",
            "  '0.024*\"die\"'),\n",
            " (12,\n",
            "  '0.179*\"pizza\" + 0.094*\"must\" + 0.029*\"son\" + 0.028*\"grow\" + 0.027*\"break\" + '\n",
            "  '0.022*\"spinach\" + 0.021*\"despit\" + 0.021*\"pre\" + 0.020*\"heart\" + '\n",
            "  '0.019*\"mine\"'),\n",
            " (13,\n",
            "  '0.082*\"chee\" + 0.052*\"kid\" + 0.032*\"basic\" + 0.027*\"eye\" + 0.026*\"buffet\" + '\n",
            "  '0.025*\"green\" + 0.023*\"veggi\" + 0.022*\"pasta\" + 0.020*\"team\" + '\n",
            "  '0.020*\"lack\"'),\n",
            " (14,\n",
            "  '0.109*\"thank\" + 0.081*\"beer\" + 0.076*\"hous\" + 0.048*\"cool\" + 0.045*\"treat\" '\n",
            "  '+ 0.040*\"everi\" + 0.037*\"short\" + 0.029*\"sell\" + 0.025*\"relax\" + '\n",
            "  '0.024*\"consid\"'),\n",
            " (15,\n",
            "  '0.151*\"food\" + 0.115*\"order\" + 0.052*\"eat\" + 0.039*\"delici\" + 0.038*\"alway\" '\n",
            "  '+ 0.032*\"tabl\" + 0.032*\"fresh\" + 0.028*\"side\" + 0.026*\"lunch\" + '\n",
            "  '0.025*\"menu\"'),\n",
            " (16,\n",
            "  '0.082*\"say\" + 0.056*\"tell\" + 0.056*\"never\" + 0.050*\"know\" + 0.044*\"ask\" + '\n",
            "  '0.033*\"help\" + 0.028*\"walk\" + 0.024*\"person\" + 0.021*\"let\" + 0.021*\"put\"'),\n",
            " (17,\n",
            "  '0.063*\"chicken\" + 0.058*\"flavor\" + 0.055*\"tast\" + 0.051*\"sauc\" + '\n",
            "  '0.044*\"dish\" + 0.044*\"sweet\" + 0.036*\"item\" + 0.029*\"quick\" + '\n",
            "  '0.028*\"breakfast\" + 0.026*\"soup\"'),\n",
            " (18,\n",
            "  '0.107*\"take\" + 0.064*\"see\" + 0.044*\"need\" + 0.038*\"use\" + 0.036*\"pay\" + '\n",
            "  '0.035*\"now\" + 0.031*\"hour\" + 0.030*\"new\" + 0.029*\"long\" + 0.027*\"year\"'),\n",
            " (19,\n",
            "  '0.062*\"decent\" + 0.051*\"sever\" + 0.045*\"game\" + 0.043*\"plan\" + '\n",
            "  '0.038*\"liter\" + 0.034*\"prefer\" + 0.033*\"highli_recommend\" + 0.027*\"choose\" '\n",
            "  '+ 0.026*\"choo\" + 0.026*\"noth\"')]\n"
          ]
        }
      ],
      "source": [
        "from pprint import pprint\n",
        "pprint(lda_model.print_topics())\n",
        "doc_lda = lda_model[corpus]"
      ]
    },
    {
      "cell_type": "code",
      "execution_count": null,
      "metadata": {
        "colab": {
          "base_uri": "https://localhost:8080/"
        },
        "id": "YyAwfd-447yp",
        "outputId": "ddd25799-33c9-49d3-cc6e-fe57fbdc2aab"
      },
      "outputs": [
        {
          "name": "stdout",
          "output_type": "stream",
          "text": [
            "\n",
            "Perplexity:  -7.172431360137933\n",
            "\n",
            "Coherence Score:  0.35519954075493354\n"
          ]
        }
      ],
      "source": [
        "from gensim.models import CoherenceModel\n",
        "print('\\nPerplexity: ', lda_model.log_perplexity(corpus))\n",
        "coherence_model_lda = CoherenceModel(model=lda_model, texts=data_lemmatized, dictionary=id2word, coherence='c_v')\n",
        "coherence_lda = coherence_model_lda.get_coherence()\n",
        "print('\\nCoherence Score: ', coherence_lda)"
      ]
    },
    {
      "cell_type": "markdown",
      "metadata": {
        "id": "KW3vdB36_SfG"
      },
      "source": [
        "# The lsa model"
      ]
    },
    {
      "cell_type": "code",
      "execution_count": null,
      "metadata": {
        "id": "_TYdP9Ov6HMu"
      },
      "outputs": [],
      "source": [
        "lsamodel = models.LsiModel(corpus, num_topics = 20, id2word = id2word)"
      ]
    },
    {
      "cell_type": "code",
      "execution_count": null,
      "metadata": {
        "colab": {
          "base_uri": "https://localhost:8080/"
        },
        "id": "N6UgkV6MD7wO",
        "outputId": "70d94b80-6caf-4d5c-acd4-438c7494f678"
      },
      "outputs": [
        {
          "name": "stdout",
          "output_type": "stream",
          "text": [
            "[(0,\n",
            "  '0.284*\"go\" + 0.255*\"good\" + 0.238*\"get\" + 0.225*\"time\" + 0.217*\"place\" + '\n",
            "  '0.206*\"come\" + 0.204*\"food\" + 0.195*\"order\" + 0.190*\"just\" + 0.165*\"will\"'),\n",
            " (1,\n",
            "  '0.485*\"good\" + 0.406*\"food\" + 0.227*\"place\" + -0.223*\"go\" + -0.196*\"say\" + '\n",
            "  '-0.185*\"tell\" + -0.182*\"call\" + 0.164*\"order\" + -0.162*\"time\" + '\n",
            "  '0.149*\"great\"'),\n",
            " (2,\n",
            "  '0.633*\"order\" + -0.380*\"good\" + 0.285*\"come\" + 0.235*\"food\" + '\n",
            "  '-0.214*\"place\" + -0.167*\"go\" + -0.141*\"great\" + -0.121*\"can\" + 0.117*\"wait\" '\n",
            "  '+ 0.114*\"tabl\"'),\n",
            " (3,\n",
            "  '-0.554*\"go\" + 0.492*\"good\" + -0.439*\"place\" + -0.274*\"food\" + 0.238*\"get\" + '\n",
            "  '-0.159*\"great\" + 0.132*\"come\" + 0.110*\"time\" + 0.067*\"room\" + '\n",
            "  '-0.066*\"back\"'),\n",
            " (4,\n",
            "  '-0.623*\"go\" + 0.416*\"place\" + -0.416*\"good\" + 0.293*\"great\" + 0.169*\"come\" '\n",
            "  '+ 0.168*\"get\" + -0.151*\"order\" + 0.122*\"room\" + 0.078*\"can\" + 0.075*\"love\"'),\n",
            " (5,\n",
            "  '-0.698*\"time\" + 0.469*\"get\" + -0.241*\"great\" + 0.240*\"place\" + 0.146*\"say\" '\n",
            "  '+ -0.145*\"food\" + 0.126*\"just\" + -0.123*\"will\" + 0.121*\"order\" + '\n",
            "  '-0.111*\"make\"'),\n",
            " (6,\n",
            "  '-0.692*\"get\" + -0.350*\"food\" + 0.217*\"place\" + -0.198*\"great\" + '\n",
            "  '0.192*\"make\" + -0.182*\"time\" + 0.179*\"just\" + 0.171*\"say\" + 0.160*\"come\" + '\n",
            "  '0.160*\"order\"'),\n",
            " (7,\n",
            "  '-0.437*\"come\" + -0.427*\"food\" + 0.393*\"order\" + 0.370*\"time\" + '\n",
            "  '0.289*\"place\" + -0.200*\"back\" + -0.189*\"say\" + 0.178*\"get\" + -0.163*\"great\" '\n",
            "  '+ -0.145*\"will\"'),\n",
            " (8,\n",
            "  '0.566*\"come\" + -0.368*\"food\" + -0.308*\"just\" + -0.286*\"make\" + '\n",
            "  '0.279*\"place\" + 0.227*\"back\" + -0.193*\"can\" + 0.183*\"time\" + 0.171*\"good\" + '\n",
            "  '0.165*\"go\"'),\n",
            " (9,\n",
            "  '-0.442*\"great\" + 0.414*\"place\" + 0.318*\"food\" + 0.250*\"time\" + 0.217*\"say\" '\n",
            "  '+ -0.201*\"also\" + 0.183*\"good\" + -0.173*\"make\" + -0.172*\"go\" + '\n",
            "  '-0.147*\"order\"'),\n",
            " (10,\n",
            "  '-0.523*\"just\" + 0.338*\"will\" + -0.308*\"come\" + 0.301*\"great\" + '\n",
            "  '0.271*\"order\" + 0.202*\"call\" + -0.192*\"room\" + 0.153*\"take\" + -0.140*\"time\" '\n",
            "  '+ 0.138*\"make\"'),\n",
            " (11,\n",
            "  '0.609*\"room\" + -0.292*\"will\" + 0.249*\"stay\" + -0.233*\"just\" + -0.221*\"get\" '\n",
            "  '+ 0.194*\"order\" + 0.193*\"hotel\" + -0.165*\"time\" + 0.141*\"check\" + '\n",
            "  '0.141*\"great\"'),\n",
            " (12,\n",
            "  '-0.545*\"great\" + -0.400*\"just\" + 0.374*\"will\" + -0.307*\"say\" + 0.252*\"make\" '\n",
            "  '+ 0.207*\"can\" + 0.205*\"room\" + 0.142*\"food\" + 0.103*\"back\" + 0.093*\"stay\"'),\n",
            " (13,\n",
            "  '-0.757*\"can\" + 0.382*\"make\" + 0.260*\"just\" + -0.257*\"say\" + 0.121*\"room\" + '\n",
            "  '-0.114*\"t\" + 0.114*\"take\" + 0.095*\"place\" + -0.077*\"eat\" + 0.072*\"back\"'),\n",
            " (14,\n",
            "  '0.603*\"make\" + -0.543*\"will\" + -0.339*\"just\" + 0.184*\"come\" + -0.181*\"room\" '\n",
            "  '+ -0.158*\"back\" + -0.137*\"order\" + 0.094*\"say\" + 0.084*\"go\" + 0.080*\"ask\"'),\n",
            " (15,\n",
            "  '-0.601*\"take\" + 0.435*\"say\" + -0.271*\"wait\" + 0.192*\"room\" + -0.191*\"can\" + '\n",
            "  '-0.177*\"car\" + 0.142*\"time\" + 0.140*\"call\" + 0.128*\"will\" + -0.107*\"tabl\"'),\n",
            " (16,\n",
            "  '0.347*\"drink\" + 0.320*\"wait\" + 0.293*\"will\" + -0.254*\"also\" + '\n",
            "  '-0.207*\"price\" + 0.191*\"say\" + 0.188*\"tabl\" + 0.184*\"make\" + -0.176*\"work\" '\n",
            "  '+ -0.160*\"call\"'),\n",
            " (17,\n",
            "  '-0.312*\"say\" + -0.288*\"also\" + 0.267*\"can\" + -0.265*\"take\" + 0.243*\"just\" + '\n",
            "  '0.230*\"order\" + 0.208*\"make\" + 0.190*\"come\" + -0.179*\"tabl\" + '\n",
            "  '-0.173*\"love\"'),\n",
            " (18,\n",
            "  '0.530*\"love\" + 0.357*\"take\" + -0.283*\"drink\" + -0.211*\"price\" + '\n",
            "  '-0.196*\"give\" + 0.192*\"say\" + -0.155*\"tabl\" + -0.152*\"even\" + 0.148*\"room\" '\n",
            "  '+ 0.139*\"back\"'),\n",
            " (19,\n",
            "  '-0.580*\"love\" + 0.316*\"take\" + -0.314*\"drink\" + -0.223*\"also\" + '\n",
            "  '0.214*\"look\" + -0.176*\"tell\" + -0.168*\"call\" + 0.147*\"back\" + 0.145*\"eat\" + '\n",
            "  '-0.138*\"never\"')]\n"
          ]
        }
      ],
      "source": [
        "pprint(lsamodel.print_topics(num_topics = 20))"
      ]
    },
    {
      "cell_type": "code",
      "execution_count": null,
      "metadata": {
        "id": "N5IB1qi8EG1o"
      },
      "outputs": [],
      "source": [
        "coherence_values = []\n",
        "model_list = []\n",
        "for num_topics in range(2, 12, 1):\n",
        "  model = models.LsiModel(corpus, num_topics = 20, id2word = id2word)\n",
        "  model_list.append(model)\n",
        "  coherencemodel = CoherenceModel(model= model, texts = data['Stemming'], dictionary = id2word, coherence='c_v')\n",
        "  coherence_values.append(coherencemodel.get_coherence())"
      ]
    },
    {
      "cell_type": "code",
      "execution_count": null,
      "metadata": {
        "colab": {
          "base_uri": "https://localhost:8080/",
          "height": 279
        },
        "id": "V7b1zJEkIScK",
        "outputId": "f4df998b-554f-453a-ebda-faba03e60c71"
      },
      "outputs": [
        {
          "data": {
            "image/png": "[encoded data removed]",
            "text/plain": [
              "<Figure size 432x288 with 1 Axes>"
            ]
          },
          "metadata": {
            "needs_background": "light",
            "tags": []
          },
          "output_type": "display_data"
        }
      ],
      "source": [
        "x = range(2, 12, 1)\n",
        "plt.plot(x, coherence_values)\n",
        "plt.xlabel(\"Number of Topics\")\n",
        "plt.ylabel(\"Coherence score\")\n",
        "plt.legend((\"coherence_values\"), loc='best')\n",
        "plt.show()"
      ]
    },
    {
      "cell_type": "markdown",
      "metadata": {
        "id": "vz-aNU3yB4iz"
      },
      "source": [
        "# **Summarization of Topics**\n",
        "\n",
        "**LDA**\n",
        "\n",
        "\n",
        "Reviews of pool pffice cashier\n",
        "\n",
        "Reviews of birthday products and burger deals\n",
        "\n",
        "Reviews of last week wine prices\n",
        "\n",
        "Reviews of door and nail fix expenses\n",
        "\n",
        "Reviews of customer care phone calls\n",
        "\n",
        "Reviews of car problems\n",
        "\n",
        "Sandwich reviews\n",
        "\n",
        "Reviews of meat, fish and steak\n",
        "\n",
        "Reviews of Green veggie pasta kid buffets\n",
        "\n",
        "Reviews of spinach pizza\n",
        "\n",
        "Reviews of house treat\n",
        "\n",
        "Reviews of delicious lunch\n",
        "\n",
        "Reviews of walk, help\n",
        "\n",
        "Reviews of chicken flavor breakfast\n",
        "\n",
        "Reviews of need to pay per use\n",
        "\n",
        "Recommendations of new game\n",
        "\n",
        "**LSA**\n",
        "\n",
        "Go and get good food place\n",
        "\n",
        "Great place to order food\n",
        "\n",
        "Reviews about hostel stay\n",
        "\n",
        "Reviews about good place to eat\n",
        "\n",
        "Reviews about room stay\n",
        "\n",
        "Car Reviews\n",
        "\n",
        "Good place and price to drink and as well as to work\n",
        "\n",
        "Come, place and order\n",
        "\n",
        "Good prices for drink\n",
        "\n",
        "Reviews about eat drink and call\n"
      ]
    },
    {
      "cell_type": "markdown",
      "metadata": {
        "id": "AfpMRCrRwN6Z"
      },
      "source": [
        "# **Question 2: Review Sentiment Analysis**"
      ]
    },
    {
      "cell_type": "markdown",
      "metadata": {
        "id": "1dCQEbDawWCw"
      },
      "source": [
        "(30 points). Sentiment analysis also known as opinion mining is a sub field within Natural Language Processing (NLP) that builds machine learning algorithms to classify a text according to the sentimental polarities of opinions it contains, e.g., positive, negative, neutral. The purpose of this question is to develop a machine learning classifier for sentiment analysis. Based on the dataset from assignment three, write a python program to implement a sentiment classifier and evaluate its performance. Notice: **80% data for training and 20% data for testing**.  \n",
        "\n",
        "(1) Features used for sentiment classification and explain why you select these features.\n",
        "\n",
        "(2) Select two of the supervised learning algorithm from scikit-learn library: https://scikit-learn.org/stable/supervised_learning.html#supervised-learning, to build a sentiment classifier respectively. Note: Cross-validation (5-fold or 10-fold) should be conducted. Here is the reference of cross-validation: https://scikit-learn.org/stable/modules/cross_validation.html.\n",
        "\n",
        "(3) Compare the performance over accuracy, precision, recall, and F1 score for the two algorithms you selected. Here is the reference of how to calculate these metrics: https://towardsdatascience.com/accuracy-precision-recall-or-f1-331fb37c5cb9. "
      ]
    },
    {
      "cell_type": "code",
      "execution_count": null,
      "metadata": {
        "id": "vATjQNTY8buA"
      },
      "outputs": [],
      "source": [
        "data = data.dropna()\n",
        "def review_classification(rating):\n",
        "    if rating == 5:\n",
        "      return 'Very Positive'\n",
        "    elif rating == 4:\n",
        "      return 'Positive'\n",
        "    elif rating == 3:\n",
        "      return 'Neutral'\n",
        "    elif rating == 2:\n",
        "      return 'Negative'\n",
        "    elif rating == 1:\n",
        "      return 'Very Negative'\n",
        "\n",
        "rating_classification = data['stars'].map(review_classification)\n",
        "data['Rating'] = rating_classification"
      ]
    },
    {
      "cell_type": "code",
      "execution_count": null,
      "metadata": {
        "colab": {
          "base_uri": "https://localhost:8080/",
          "height": 450
        },
        "id": "j7eHf6VQ63-Q",
        "outputId": "6fdefac8-22b5-47a9-f1ef-26280565577e"
      },
      "outputs": [
        {
          "name": "stdout",
          "output_type": "stream",
          "text": [
            "Very Positive    4341\n",
            "Positive         2316\n",
            "Very Negative    1409\n",
            "Neutral          1093\n",
            "Negative          841\n",
            "Name: Rating, dtype: int64\n"
          ]
        },
        {
          "name": "stderr",
          "output_type": "stream",
          "text": [
            "/usr/local/lib/python3.6/dist-packages/seaborn/_decorators.py:43: FutureWarning: Pass the following variable as a keyword arg: x. From version 0.12, the only valid positional argument will be `data`, and passing other arguments without an explicit keyword will result in an error or misinterpretation.\n",
            "  FutureWarning\n"
          ]
        },
        {
          "data": {
            "text/plain": [
              "<matplotlib.axes._subplots.AxesSubplot at 0x7f8ff75e1dd8>"
            ]
          },
          "execution_count": 65,
          "metadata": {
            "tags": []
          },
          "output_type": "execute_result"
        },
        {
          "data": {
            "image/png": "[encoded data removed]",
            "text/plain": [
              "<Figure size 432x288 with 1 Axes>"
            ]
          },
          "metadata": {
            "needs_background": "light",
            "tags": []
          },
          "output_type": "display_data"
        }
      ],
      "source": [
        "import seaborn as sns\n",
        "print(data['Rating'].value_counts())\n",
        "sns.countplot(data.Rating)"
      ]
    },
    {
      "cell_type": "code",
      "execution_count": null,
      "metadata": {
        "id": "KZq-XgBK1LrA"
      },
      "outputs": [],
      "source": [
        "from sklearn.preprocessing import LabelEncoder\n",
        "from sklearn.feature_extraction.text import TfidfVectorizer\n",
        "Tfidfvector = TfidfVectorizer(ngram_range=(1,2), max_features=1000)\n",
        "Tfidfvector.fit(data['text'])\n",
        "x_values = Tfidfvector.transform(data['text'])\n",
        "encoder = LabelEncoder()\n",
        "y_values = encoder.fit_transform(data['Rating'])"
      ]
    },
    {
      "cell_type": "code",
      "execution_count": null,
      "metadata": {
        "colab": {
          "base_uri": "https://localhost:8080/"
        },
        "id": "S-Pb85MfHdsG",
        "outputId": "ce970e37-b95a-43e3-e316-66b8441e71a9"
      },
      "outputs": [
        {
          "name": "stdout",
          "output_type": "stream",
          "text": [
            "Accuracy score is 0.554\n"
          ]
        },
        {
          "data": {
            "text/plain": [
              "{'0': {'f1-score': 0.062176165803108814,\n",
              "  'precision': 0.6,\n",
              "  'recall': 0.03278688524590164,\n",
              "  'support': 183},\n",
              " '1': {'f1-score': 0.03361344537815126,\n",
              "  'precision': 0.2857142857142857,\n",
              "  'recall': 0.017857142857142856,\n",
              "  'support': 224},\n",
              " '2': {'f1-score': 0.3372093023255814,\n",
              "  'precision': 0.3625,\n",
              "  'recall': 0.31521739130434784,\n",
              "  'support': 460},\n",
              " '3': {'f1-score': 0.6321243523316062,\n",
              "  'precision': 0.6140939597315436,\n",
              "  'recall': 0.6512455516014235,\n",
              "  'support': 281},\n",
              " '4': {'f1-score': 0.7230046948356808,\n",
              "  'precision': 0.6025039123630673,\n",
              "  'recall': 0.903755868544601,\n",
              "  'support': 852},\n",
              " 'accuracy': 0.554,\n",
              " 'macro avg': {'f1-score': 0.3576255921348257,\n",
              "  'precision': 0.4929624315617794,\n",
              "  'recall': 0.3841725679106834,\n",
              "  'support': 2000},\n",
              " 'weighted avg': {'f1-score': 0.48382543609081174,\n",
              "  'precision': 0.5132218680089486,\n",
              "  'recall': 0.554,\n",
              "  'support': 2000}}"
            ]
          },
          "execution_count": 82,
          "metadata": {
            "tags": []
          },
          "output_type": "execute_result"
        }
      ],
      "source": [
        "from sklearn import naive_bayes\n",
        "nb = naive_bayes.MultinomialNB()\n",
        "nb.fit(X_train, y_train)\n",
        "predicted_nb = nb.predict(x_test)\n",
        "print(\"Accuracy score is {0}\".format(accuracy_score(y_test, predicted_nb)))\n",
        "report_nb = classification_report(y_test, predicted_nb, output_dict=True)\n",
        "report_nb"
      ]
    },
    {
      "cell_type": "markdown",
      "metadata": {
        "id": "p4rG2biNTZUe"
      },
      "source": [
        "I have selected the Naive Bayes and SVM. Below are metrics of the two models -\n",
        "![image.png](data:image/png;base64,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)\n"
      ]
    },
    {
      "cell_type": "markdown",
      "metadata": {
        "id": "E5mmYIfN8eYV"
      },
      "source": [
        "# **Question 3: House price prediction**"
      ]
    },
    {
      "cell_type": "markdown",
      "metadata": {
        "id": "hsi2y4z88ngX"
      },
      "source": [
        "(40 points). You are required to build a **regression** model to predict the house price with 79 explanatory variables describing (almost) every aspect of residential homes. The purpose of this question is to practice regression analysis, an supervised learning model. The training data, testing data, and data description files can be download from Dropbox: https://www.dropbox.com/s/52j9hpxppfo921o/assignment4-question3-data.zip?dl=0. Here is an axample for the implementation: https://towardsdatascience.com/linear-regression-in-python-predict-the-bay-areas-home-price-5c91c8378878. \n"
      ]
    },
    {
      "cell_type": "code",
      "execution_count": null,
      "metadata": {
        "id": "XfvMKJjIXS5G"
      },
      "outputs": [],
      "source": [
        "train_dataset = pd.read_csv(\"/content/train.csv\")\n",
        "test_dataset = pd.read_csv(\"/content/test.csv\")"
      ]
    },
    {
      "cell_type": "code",
      "execution_count": null,
      "metadata": {
        "colab": {
          "base_uri": "https://localhost:8080/",
          "height": 304
        },
        "id": "EL0fAYUAJTpY",
        "outputId": "543bc8f0-d42e-4d60-e5e4-374765fcc95b"
      },
      "outputs": [
        {
          "data": {
            "text/html": [
              "<div>\n",
              "<style scoped>\n",
              "    .dataframe tbody tr th:only-of-type {\n",
              "        vertical-align: middle;\n",
              "    }\n",
              "\n",
              "    .dataframe tbody tr th {\n",
              "        vertical-align: top;\n",
              "    }\n",
              "\n",
              "    .dataframe thead th {\n",
              "        text-align: right;\n",
              "    }\n",
              "</style>\n",
              "<table border=\"1\" class=\"dataframe\">\n",
              "  <thead>\n",
              "    <tr style=\"text-align: right;\">\n",
              "      <th></th>\n",
              "      <th>Id</th>\n",
              "      <th>MSSubClass</th>\n",
              "      <th>LotFrontage</th>\n",
              "      <th>LotArea</th>\n",
              "      <th>OverallQual</th>\n",
              "      <th>OverallCond</th>\n",
              "      <th>YearBuilt</th>\n",
              "      <th>YearRemodAdd</th>\n",
              "      <th>MasVnrArea</th>\n",
              "      <th>BsmtFinSF1</th>\n",
              "      <th>BsmtFinSF2</th>\n",
              "      <th>BsmtUnfSF</th>\n",
              "      <th>TotalBsmtSF</th>\n",
              "      <th>1stFlrSF</th>\n",
              "      <th>2ndFlrSF</th>\n",
              "      <th>LowQualFinSF</th>\n",
              "      <th>GrLivArea</th>\n",
              "      <th>BsmtFullBath</th>\n",
              "      <th>BsmtHalfBath</th>\n",
              "      <th>FullBath</th>\n",
              "      <th>HalfBath</th>\n",
              "      <th>BedroomAbvGr</th>\n",
              "      <th>KitchenAbvGr</th>\n",
              "      <th>TotRmsAbvGrd</th>\n",
              "      <th>Fireplaces</th>\n",
              "      <th>GarageYrBlt</th>\n",
              "      <th>GarageCars</th>\n",
              "      <th>GarageArea</th>\n",
              "      <th>WoodDeckSF</th>\n",
              "      <th>OpenPorchSF</th>\n",
              "      <th>EnclosedPorch</th>\n",
              "      <th>3SsnPorch</th>\n",
              "      <th>ScreenPorch</th>\n",
              "      <th>PoolArea</th>\n",
              "      <th>MiscVal</th>\n",
              "      <th>MoSold</th>\n",
              "      <th>YrSold</th>\n",
              "      <th>SalePrice</th>\n",
              "    </tr>\n",
              "  </thead>\n",
              "  <tbody>\n",
              "    <tr>\n",
              "      <th>count</th>\n",
              "      <td>1460.000000</td>\n",
              "      <td>1460.000000</td>\n",
              "      <td>1201.000000</td>\n",
              "      <td>1460.000000</td>\n",
              "      <td>1460.000000</td>\n",
              "      <td>1460.000000</td>\n",
              "      <td>1460.000000</td>\n",
              "      <td>1460.000000</td>\n",
              "      <td>1452.000000</td>\n",
              "      <td>1460.000000</td>\n",
              "      <td>1460.000000</td>\n",
              "      <td>1460.000000</td>\n",
              "      <td>1460.000000</td>\n",
              "      <td>1460.000000</td>\n",
              "      <td>1460.000000</td>\n",
              "      <td>1460.000000</td>\n",
              "      <td>1460.000000</td>\n",
              "      <td>1460.000000</td>\n",
              "      <td>1460.000000</td>\n",
              "      <td>1460.000000</td>\n",
              "      <td>1460.000000</td>\n",
              "      <td>1460.000000</td>\n",
              "      <td>1460.000000</td>\n",
              "      <td>1460.000000</td>\n",
              "      <td>1460.000000</td>\n",
              "      <td>1379.000000</td>\n",
              "      <td>1460.000000</td>\n",
              "      <td>1460.000000</td>\n",
              "      <td>1460.000000</td>\n",
              "      <td>1460.000000</td>\n",
              "      <td>1460.000000</td>\n",
              "      <td>1460.000000</td>\n",
              "      <td>1460.000000</td>\n",
              "      <td>1460.000000</td>\n",
              "      <td>1460.000000</td>\n",
              "      <td>1460.000000</td>\n",
              "      <td>1460.000000</td>\n",
              "      <td>1460.000000</td>\n",
              "    </tr>\n",
              "    <tr>\n",
              "      <th>mean</th>\n",
              "      <td>730.500000</td>\n",
              "      <td>56.897260</td>\n",
              "      <td>70.049958</td>\n",
              "      <td>10516.828082</td>\n",
              "      <td>6.099315</td>\n",
              "      <td>5.575342</td>\n",
              "      <td>1971.267808</td>\n",
              "      <td>1984.865753</td>\n",
              "      <td>103.685262</td>\n",
              "      <td>443.639726</td>\n",
              "      <td>46.549315</td>\n",
              "      <td>567.240411</td>\n",
              "      <td>1057.429452</td>\n",
              "      <td>1162.626712</td>\n",
              "      <td>346.992466</td>\n",
              "      <td>5.844521</td>\n",
              "      <td>1515.463699</td>\n",
              "      <td>0.425342</td>\n",
              "      <td>0.057534</td>\n",
              "      <td>1.565068</td>\n",
              "      <td>0.382877</td>\n",
              "      <td>2.866438</td>\n",
              "      <td>1.046575</td>\n",
              "      <td>6.517808</td>\n",
              "      <td>0.613014</td>\n",
              "      <td>1978.506164</td>\n",
              "      <td>1.767123</td>\n",
              "      <td>472.980137</td>\n",
              "      <td>94.244521</td>\n",
              "      <td>46.660274</td>\n",
              "      <td>21.954110</td>\n",
              "      <td>3.409589</td>\n",
              "      <td>15.060959</td>\n",
              "      <td>2.758904</td>\n",
              "      <td>43.489041</td>\n",
              "      <td>6.321918</td>\n",
              "      <td>2007.815753</td>\n",
              "      <td>180921.195890</td>\n",
              "    </tr>\n",
              "    <tr>\n",
              "      <th>std</th>\n",
              "      <td>421.610009</td>\n",
              "      <td>42.300571</td>\n",
              "      <td>24.284752</td>\n",
              "      <td>9981.264932</td>\n",
              "      <td>1.382997</td>\n",
              "      <td>1.112799</td>\n",
              "      <td>30.202904</td>\n",
              "      <td>20.645407</td>\n",
              "      <td>181.066207</td>\n",
              "      <td>456.098091</td>\n",
              "      <td>161.319273</td>\n",
              "      <td>441.866955</td>\n",
              "      <td>438.705324</td>\n",
              "      <td>386.587738</td>\n",
              "      <td>436.528436</td>\n",
              "      <td>48.623081</td>\n",
              "      <td>525.480383</td>\n",
              "      <td>0.518911</td>\n",
              "      <td>0.238753</td>\n",
              "      <td>0.550916</td>\n",
              "      <td>0.502885</td>\n",
              "      <td>0.815778</td>\n",
              "      <td>0.220338</td>\n",
              "      <td>1.625393</td>\n",
              "      <td>0.644666</td>\n",
              "      <td>24.689725</td>\n",
              "      <td>0.747315</td>\n",
              "      <td>213.804841</td>\n",
              "      <td>125.338794</td>\n",
              "      <td>66.256028</td>\n",
              "      <td>61.119149</td>\n",
              "      <td>29.317331</td>\n",
              "      <td>55.757415</td>\n",
              "      <td>40.177307</td>\n",
              "      <td>496.123024</td>\n",
              "      <td>2.703626</td>\n",
              "      <td>1.328095</td>\n",
              "      <td>79442.502883</td>\n",
              "    </tr>\n",
              "    <tr>\n",
              "      <th>min</th>\n",
              "      <td>1.000000</td>\n",
              "      <td>20.000000</td>\n",
              "      <td>21.000000</td>\n",
              "      <td>1300.000000</td>\n",
              "      <td>1.000000</td>\n",
              "      <td>1.000000</td>\n",
              "      <td>1872.000000</td>\n",
              "      <td>1950.000000</td>\n",
              "      <td>0.000000</td>\n",
              "      <td>0.000000</td>\n",
              "      <td>0.000000</td>\n",
              "      <td>0.000000</td>\n",
              "      <td>0.000000</td>\n",
              "      <td>334.000000</td>\n",
              "      <td>0.000000</td>\n",
              "      <td>0.000000</td>\n",
              "      <td>334.000000</td>\n",
              "      <td>0.000000</td>\n",
              "      <td>0.000000</td>\n",
              "      <td>0.000000</td>\n",
              "      <td>0.000000</td>\n",
              "      <td>0.000000</td>\n",
              "      <td>0.000000</td>\n",
              "      <td>2.000000</td>\n",
              "      <td>0.000000</td>\n",
              "      <td>1900.000000</td>\n",
              "      <td>0.000000</td>\n",
              "      <td>0.000000</td>\n",
              "      <td>0.000000</td>\n",
              "      <td>0.000000</td>\n",
              "      <td>0.000000</td>\n",
              "      <td>0.000000</td>\n",
              "      <td>0.000000</td>\n",
              "      <td>0.000000</td>\n",
              "      <td>0.000000</td>\n",
              "      <td>1.000000</td>\n",
              "      <td>2006.000000</td>\n",
              "      <td>34900.000000</td>\n",
              "    </tr>\n",
              "    <tr>\n",
              "      <th>25%</th>\n",
              "      <td>365.750000</td>\n",
              "      <td>20.000000</td>\n",
              "      <td>59.000000</td>\n",
              "      <td>7553.500000</td>\n",
              "      <td>5.000000</td>\n",
              "      <td>5.000000</td>\n",
              "      <td>1954.000000</td>\n",
              "      <td>1967.000000</td>\n",
              "      <td>0.000000</td>\n",
              "      <td>0.000000</td>\n",
              "      <td>0.000000</td>\n",
              "      <td>223.000000</td>\n",
              "      <td>795.750000</td>\n",
              "      <td>882.000000</td>\n",
              "      <td>0.000000</td>\n",
              "      <td>0.000000</td>\n",
              "      <td>1129.500000</td>\n",
              "      <td>0.000000</td>\n",
              "      <td>0.000000</td>\n",
              "      <td>1.000000</td>\n",
              "      <td>0.000000</td>\n",
              "      <td>2.000000</td>\n",
              "      <td>1.000000</td>\n",
              "      <td>5.000000</td>\n",
              "      <td>0.000000</td>\n",
              "      <td>1961.000000</td>\n",
              "      <td>1.000000</td>\n",
              "      <td>334.500000</td>\n",
              "      <td>0.000000</td>\n",
              "      <td>0.000000</td>\n",
              "      <td>0.000000</td>\n",
              "      <td>0.000000</td>\n",
              "      <td>0.000000</td>\n",
              "      <td>0.000000</td>\n",
              "      <td>0.000000</td>\n",
              "      <td>5.000000</td>\n",
              "      <td>2007.000000</td>\n",
              "      <td>129975.000000</td>\n",
              "    </tr>\n",
              "    <tr>\n",
              "      <th>50%</th>\n",
              "      <td>730.500000</td>\n",
              "      <td>50.000000</td>\n",
              "      <td>69.000000</td>\n",
              "      <td>9478.500000</td>\n",
              "      <td>6.000000</td>\n",
              "      <td>5.000000</td>\n",
              "      <td>1973.000000</td>\n",
              "      <td>1994.000000</td>\n",
              "      <td>0.000000</td>\n",
              "      <td>383.500000</td>\n",
              "      <td>0.000000</td>\n",
              "      <td>477.500000</td>\n",
              "      <td>991.500000</td>\n",
              "      <td>1087.000000</td>\n",
              "      <td>0.000000</td>\n",
              "      <td>0.000000</td>\n",
              "      <td>1464.000000</td>\n",
              "      <td>0.000000</td>\n",
              "      <td>0.000000</td>\n",
              "      <td>2.000000</td>\n",
              "      <td>0.000000</td>\n",
              "      <td>3.000000</td>\n",
              "      <td>1.000000</td>\n",
              "      <td>6.000000</td>\n",
              "      <td>1.000000</td>\n",
              "      <td>1980.000000</td>\n",
              "      <td>2.000000</td>\n",
              "      <td>480.000000</td>\n",
              "      <td>0.000000</td>\n",
              "      <td>25.000000</td>\n",
              "      <td>0.000000</td>\n",
              "      <td>0.000000</td>\n",
              "      <td>0.000000</td>\n",
              "      <td>0.000000</td>\n",
              "      <td>0.000000</td>\n",
              "      <td>6.000000</td>\n",
              "      <td>2008.000000</td>\n",
              "      <td>163000.000000</td>\n",
              "    </tr>\n",
              "    <tr>\n",
              "      <th>75%</th>\n",
              "      <td>1095.250000</td>\n",
              "      <td>70.000000</td>\n",
              "      <td>80.000000</td>\n",
              "      <td>11601.500000</td>\n",
              "      <td>7.000000</td>\n",
              "      <td>6.000000</td>\n",
              "      <td>2000.000000</td>\n",
              "      <td>2004.000000</td>\n",
              "      <td>166.000000</td>\n",
              "      <td>712.250000</td>\n",
              "      <td>0.000000</td>\n",
              "      <td>808.000000</td>\n",
              "      <td>1298.250000</td>\n",
              "      <td>1391.250000</td>\n",
              "      <td>728.000000</td>\n",
              "      <td>0.000000</td>\n",
              "      <td>1776.750000</td>\n",
              "      <td>1.000000</td>\n",
              "      <td>0.000000</td>\n",
              "      <td>2.000000</td>\n",
              "      <td>1.000000</td>\n",
              "      <td>3.000000</td>\n",
              "      <td>1.000000</td>\n",
              "      <td>7.000000</td>\n",
              "      <td>1.000000</td>\n",
              "      <td>2002.000000</td>\n",
              "      <td>2.000000</td>\n",
              "      <td>576.000000</td>\n",
              "      <td>168.000000</td>\n",
              "      <td>68.000000</td>\n",
              "      <td>0.000000</td>\n",
              "      <td>0.000000</td>\n",
              "      <td>0.000000</td>\n",
              "      <td>0.000000</td>\n",
              "      <td>0.000000</td>\n",
              "      <td>8.000000</td>\n",
              "      <td>2009.000000</td>\n",
              "      <td>214000.000000</td>\n",
              "    </tr>\n",
              "    <tr>\n",
              "      <th>max</th>\n",
              "      <td>1460.000000</td>\n",
              "      <td>190.000000</td>\n",
              "      <td>313.000000</td>\n",
              "      <td>215245.000000</td>\n",
              "      <td>10.000000</td>\n",
              "      <td>9.000000</td>\n",
              "      <td>2010.000000</td>\n",
              "      <td>2010.000000</td>\n",
              "      <td>1600.000000</td>\n",
              "      <td>5644.000000</td>\n",
              "      <td>1474.000000</td>\n",
              "      <td>2336.000000</td>\n",
              "      <td>6110.000000</td>\n",
              "      <td>4692.000000</td>\n",
              "      <td>2065.000000</td>\n",
              "      <td>572.000000</td>\n",
              "      <td>5642.000000</td>\n",
              "      <td>3.000000</td>\n",
              "      <td>2.000000</td>\n",
              "      <td>3.000000</td>\n",
              "      <td>2.000000</td>\n",
              "      <td>8.000000</td>\n",
              "      <td>3.000000</td>\n",
              "      <td>14.000000</td>\n",
              "      <td>3.000000</td>\n",
              "      <td>2010.000000</td>\n",
              "      <td>4.000000</td>\n",
              "      <td>1418.000000</td>\n",
              "      <td>857.000000</td>\n",
              "      <td>547.000000</td>\n",
              "      <td>552.000000</td>\n",
              "      <td>508.000000</td>\n",
              "      <td>480.000000</td>\n",
              "      <td>738.000000</td>\n",
              "      <td>15500.000000</td>\n",
              "      <td>12.000000</td>\n",
              "      <td>2010.000000</td>\n",
              "      <td>755000.000000</td>\n",
              "    </tr>\n",
              "  </tbody>\n",
              "</table>\n",
              "</div>"
            ],
            "text/plain": [
              "                Id   MSSubClass  ...       YrSold      SalePrice\n",
              "count  1460.000000  1460.000000  ...  1460.000000    1460.000000\n",
              "mean    730.500000    56.897260  ...  2007.815753  180921.195890\n",
              "std     421.610009    42.300571  ...     1.328095   79442.502883\n",
              "min       1.000000    20.000000  ...  2006.000000   34900.000000\n",
              "25%     365.750000    20.000000  ...  2007.000000  129975.000000\n",
              "50%     730.500000    50.000000  ...  2008.000000  163000.000000\n",
              "75%    1095.250000    70.000000  ...  2009.000000  214000.000000\n",
              "max    1460.000000   190.000000  ...  2010.000000  755000.000000\n",
              "\n",
              "[8 rows x 38 columns]"
            ]
          },
          "execution_count": 152,
          "metadata": {
            "tags": []
          },
          "output_type": "execute_result"
        }
      ],
      "source": [
        "train_dataset.describe()"
      ]
    },
    {
      "cell_type": "code",
      "execution_count": null,
      "metadata": {
        "colab": {
          "base_uri": "https://localhost:8080/"
        },
        "id": "Z7HRVrpTKyyU",
        "outputId": "7d1bdbca-0f50-4418-8959-d096e4f3e226"
      },
      "outputs": [
        {
          "name": "stdout",
          "output_type": "stream",
          "text": [
            "Id                 0\n",
            "MSSubClass         0\n",
            "MSZoning           0\n",
            "LotFrontage      259\n",
            "LotArea            0\n",
            "                ... \n",
            "MoSold             0\n",
            "YrSold             0\n",
            "SaleType           0\n",
            "SaleCondition      0\n",
            "SalePrice          0\n",
            "Length: 81, dtype: int64\n"
          ]
        }
      ],
      "source": [
        "print(train_dataset.isnull().sum())"
      ]
    },
    {
      "cell_type": "code",
      "execution_count": null,
      "metadata": {
        "colab": {
          "base_uri": "https://localhost:8080/"
        },
        "id": "y2NP3tpRcFuj",
        "outputId": "e7190520-6766-49cd-e6e0-962f4619e4db"
      },
      "outputs": [
        {
          "name": "stdout",
          "output_type": "stream",
          "text": [
            "Id                 0\n",
            "MSSubClass         0\n",
            "MSZoning           4\n",
            "LotFrontage      227\n",
            "LotArea            0\n",
            "                ... \n",
            "MiscVal            0\n",
            "MoSold             0\n",
            "YrSold             0\n",
            "SaleType           1\n",
            "SaleCondition      0\n",
            "Length: 80, dtype: int64\n"
          ]
        }
      ],
      "source": [
        "print(test_dataset.isnull().sum())"
      ]
    },
    {
      "cell_type": "code",
      "execution_count": null,
      "metadata": {
        "colab": {
          "base_uri": "https://localhost:8080/"
        },
        "id": "mQaMF4QjJzKm",
        "outputId": "a470a900-2b1a-4315-d894-7a991fd346b5"
      },
      "outputs": [
        {
          "data": {
            "text/plain": [
              "SalePrice        1.000000\n",
              "OverallQual      0.790982\n",
              "GrLivArea        0.708624\n",
              "GarageCars       0.640409\n",
              "GarageArea       0.623431\n",
              "TotalBsmtSF      0.613581\n",
              "1stFlrSF         0.605852\n",
              "FullBath         0.560664\n",
              "TotRmsAbvGrd     0.533723\n",
              "YearBuilt        0.522897\n",
              "YearRemodAdd     0.507101\n",
              "GarageYrBlt      0.486362\n",
              "MasVnrArea       0.477493\n",
              "Fireplaces       0.466929\n",
              "BsmtFinSF1       0.386420\n",
              "LotFrontage      0.351799\n",
              "WoodDeckSF       0.324413\n",
              "2ndFlrSF         0.319334\n",
              "OpenPorchSF      0.315856\n",
              "HalfBath         0.284108\n",
              "LotArea          0.263843\n",
              "BsmtFullBath     0.227122\n",
              "BsmtUnfSF        0.214479\n",
              "BedroomAbvGr     0.168213\n",
              "ScreenPorch      0.111447\n",
              "PoolArea         0.092404\n",
              "MoSold           0.046432\n",
              "3SsnPorch        0.044584\n",
              "BsmtFinSF2      -0.011378\n",
              "BsmtHalfBath    -0.016844\n",
              "MiscVal         -0.021190\n",
              "Id              -0.021917\n",
              "LowQualFinSF    -0.025606\n",
              "YrSold          -0.028923\n",
              "OverallCond     -0.077856\n",
              "MSSubClass      -0.084284\n",
              "EnclosedPorch   -0.128578\n",
              "KitchenAbvGr    -0.135907\n",
              "Name: SalePrice, dtype: float64"
            ]
          },
          "execution_count": 155,
          "metadata": {
            "tags": []
          },
          "output_type": "execute_result"
        }
      ],
      "source": [
        "corr_matrix = train_dataset.corr()\n",
        "corr_matrix[\"SalePrice\"].sort_values(ascending=False)"
      ]
    },
    {
      "cell_type": "code",
      "execution_count": null,
      "metadata": {
        "id": "FopLo6RnPazl"
      },
      "outputs": [],
      "source": [
        "train_dataset.fillna(train_dataset.mean(), inplace = True)\n",
        "test_dataset.fillna(test_dataset.mean(), inplace = True)"
      ]
    },
    {
      "cell_type": "code",
      "execution_count": null,
      "metadata": {
        "colab": {
          "base_uri": "https://localhost:8080/"
        },
        "id": "WT_VSUJKPwbX",
        "outputId": "ee09a101-88c5-46c6-969e-d1f41a03c62d"
      },
      "outputs": [
        {
          "name": "stdout",
          "output_type": "stream",
          "text": [
            "Id               0\n",
            "MSSubClass       0\n",
            "MSZoning         0\n",
            "LotFrontage      0\n",
            "LotArea          0\n",
            "                ..\n",
            "MoSold           0\n",
            "YrSold           0\n",
            "SaleType         0\n",
            "SaleCondition    0\n",
            "SalePrice        0\n",
            "Length: 81, dtype: int64\n"
          ]
        }
      ],
      "source": [
        "print(train_dataset.isnull().sum())"
      ]
    },
    {
      "cell_type": "code",
      "execution_count": null,
      "metadata": {
        "colab": {
          "base_uri": "https://localhost:8080/"
        },
        "id": "3W7fkQIWcrgv",
        "outputId": "497958af-562d-44c5-84d9-19f121f36623"
      },
      "outputs": [
        {
          "name": "stdout",
          "output_type": "stream",
          "text": [
            "Id               0\n",
            "MSSubClass       0\n",
            "MSZoning         4\n",
            "LotFrontage      0\n",
            "LotArea          0\n",
            "                ..\n",
            "MiscVal          0\n",
            "MoSold           0\n",
            "YrSold           0\n",
            "SaleType         1\n",
            "SaleCondition    0\n",
            "Length: 80, dtype: int64\n"
          ]
        }
      ],
      "source": [
        "print(test_dataset.isnull().sum())"
      ]
    },
    {
      "cell_type": "code",
      "execution_count": null,
      "metadata": {
        "id": "YeQzXF1Mc8N5"
      },
      "outputs": [],
      "source": [
        "for column in columns:\n",
        "    encoder_test = LabelEncoder()\n",
        "    encoder_test.fit(list(test_dataset[column].values))\n",
        "    test_dataset[column] = encoder_test.transform(list(test_dataset[column].values))"
      ]
    },
    {
      "cell_type": "code",
      "execution_count": null,
      "metadata": {
        "id": "ZrmFERpmQOII"
      },
      "outputs": [],
      "source": [
        "x_values = train_dataset[train_dataset.columns[:80]] "
      ]
    },
    {
      "cell_type": "code",
      "execution_count": null,
      "metadata": {
        "id": "RXAGLfHedjiG"
      },
      "outputs": [],
      "source": [
        "x_test_values = test_dataset[test_dataset.columns[:80]]"
      ]
    },
    {
      "cell_type": "code",
      "execution_count": null,
      "metadata": {
        "id": "wfM8HoMGRf0P"
      },
      "outputs": [],
      "source": [
        "y_values = train_dataset['SalePrice']"
      ]
    },
    {
      "cell_type": "code",
      "execution_count": null,
      "metadata": {
        "id": "eN0oOAvqTQkJ"
      },
      "outputs": [],
      "source": [
        "predicted = reg_model.predict(x_test_values)"
      ]
    },
    {
      "cell_type": "code",
      "execution_count": null,
      "metadata": {
        "colab": {
          "base_uri": "https://localhost:8080/",
          "height": 402
        },
        "id": "wDYIu4FCdxEG",
        "outputId": "9cf742e3-fe3b-46cc-f218-7e1aa13a33b5"
      },
      "outputs": [
        {
          "data": {
            "text/html": [
              "<div>\n",
              "<style scoped>\n",
              "    .dataframe tbody tr th:only-of-type {\n",
              "        vertical-align: middle;\n",
              "    }\n",
              "\n",
              "    .dataframe tbody tr th {\n",
              "        vertical-align: top;\n",
              "    }\n",
              "\n",
              "    .dataframe thead th {\n",
              "        text-align: right;\n",
              "    }\n",
              "</style>\n",
              "<table border=\"1\" class=\"dataframe\">\n",
              "  <thead>\n",
              "    <tr style=\"text-align: right;\">\n",
              "      <th></th>\n",
              "      <th>Predicted House Price Values</th>\n",
              "    </tr>\n",
              "  </thead>\n",
              "  <tbody>\n",
              "    <tr>\n",
              "      <th>0</th>\n",
              "      <td>184936.609022</td>\n",
              "    </tr>\n",
              "    <tr>\n",
              "      <th>1</th>\n",
              "      <td>239791.092108</td>\n",
              "    </tr>\n",
              "    <tr>\n",
              "      <th>2</th>\n",
              "      <td>245071.890618</td>\n",
              "    </tr>\n",
              "    <tr>\n",
              "      <th>3</th>\n",
              "      <td>263617.412688</td>\n",
              "    </tr>\n",
              "    <tr>\n",
              "      <th>4</th>\n",
              "      <td>263185.252850</td>\n",
              "    </tr>\n",
              "    <tr>\n",
              "      <th>...</th>\n",
              "      <td>...</td>\n",
              "    </tr>\n",
              "    <tr>\n",
              "      <th>1454</th>\n",
              "      <td>152148.218848</td>\n",
              "    </tr>\n",
              "    <tr>\n",
              "      <th>1455</th>\n",
              "      <td>138020.527442</td>\n",
              "    </tr>\n",
              "    <tr>\n",
              "      <th>1456</th>\n",
              "      <td>225624.228917</td>\n",
              "    </tr>\n",
              "    <tr>\n",
              "      <th>1457</th>\n",
              "      <td>196336.422912</td>\n",
              "    </tr>\n",
              "    <tr>\n",
              "      <th>1458</th>\n",
              "      <td>318680.747439</td>\n",
              "    </tr>\n",
              "  </tbody>\n",
              "</table>\n",
              "<p>1459 rows × 1 columns</p>\n",
              "</div>"
            ],
            "text/plain": [
              "      Predicted House Price Values\n",
              "0                    184936.609022\n",
              "1                    239791.092108\n",
              "2                    245071.890618\n",
              "3                    263617.412688\n",
              "4                    263185.252850\n",
              "...                            ...\n",
              "1454                 152148.218848\n",
              "1455                 138020.527442\n",
              "1456                 225624.228917\n",
              "1457                 196336.422912\n",
              "1458                 318680.747439\n",
              "\n",
              "[1459 rows x 1 columns]"
            ]
          },
          "execution_count": 207,
          "metadata": {
            "tags": []
          },
          "output_type": "execute_result"
        }
      ],
      "source": [
        "pd.DataFrame({'Predicted House Price Values': predicted})"
      ]
    }
  ],
  "metadata": {
    "colab": {
      "collapsed_sections": [],
      "name": "INFO5731_Assignment_Four.ipynb",
      "provenance": [],
      "toc_visible": true,
      "include_colab_link": true
    },
    "kernelspec": {
      "display_name": "Python 3",
      "language": "python",
      "name": "python3"
    },
    "language_info": {
      "codemirror_mode": {
        "name": "ipython",
        "version": 3
      },
      "file_extension": ".py",
      "mimetype": "text/x-python",
      "name": "python",
      "nbconvert_exporter": "python",
      "pygments_lexer": "ipython3",
      "version": "3.7.4"
    }
  },
  "nbformat": 4,
  "nbformat_minor": 0
}