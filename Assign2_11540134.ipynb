{
  "cells": [
    {
      "cell_type": "markdown",
      "metadata": {
        "id": "view-in-github",
        "colab_type": "text"
      },
      "source": [
        "<a href=\"https://colab.research.google.com/github/Muppasaisrija/Muppa_NFO5731_-SPRING2022/blob/main/Assign2_11540134.ipynb\" target=\"_parent\"><img src=\"https://colab.research.google.com/assets/colab-badge.svg\" alt=\"Open In Colab\"/></a>"
      ]
    },
    {
      "cell_type": "code",
      "execution_count": null,
      "id": "3a073919",
      "metadata": {
        "id": "3a073919",
        "outputId": "4ffbb3da-72e0-4f79-ea98-9d8b1ab40aa6"
      },
      "outputs": [
        {
          "name": "stdout",
          "output_type": "stream",
          "text": [
            "Hello,world!\n"
          ]
        }
      ],
      "source": [
        "#print the hello world!\n",
        "input1=\"Hello,world!\"\n",
        "print(input1)"
      ]
    },
    {
      "cell_type": "code",
      "execution_count": null,
      "id": "4baacc94",
      "metadata": {
        "id": "4baacc94",
        "outputId": "aa34bca1-5324-4793-f6ed-b7e12f18979b"
      },
      "outputs": [
        {
          "name": "stdout",
          "output_type": "stream",
          "text": [
            "12\n"
          ]
        }
      ],
      "source": [
        "#print the lenght of hello,world!\n",
        "print(len(input1))"
      ]
    },
    {
      "cell_type": "code",
      "execution_count": null,
      "id": "ffafe012",
      "metadata": {
        "id": "ffafe012",
        "outputId": "f2916f5a-2368-4f1b-b0d8-c91c1e63a8f7"
      },
      "outputs": [
        {
          "data": {
            "text/plain": [
              "'world'"
            ]
          },
          "execution_count": 3,
          "metadata": {},
          "output_type": "execute_result"
        }
      ],
      "source": [
        "#print the world using the index slicing\n",
        "input1[6:11]"
      ]
    },
    {
      "cell_type": "code",
      "execution_count": null,
      "id": "d9eb0d06",
      "metadata": {
        "id": "d9eb0d06",
        "outputId": "90fa8dcb-5e03-427d-a15f-80b6e97497e8"
      },
      "outputs": [
        {
          "data": {
            "text/plain": [
              "int"
            ]
          },
          "execution_count": 4,
          "metadata": {},
          "output_type": "execute_result"
        }
      ],
      "source": [
        "num=1\n",
        "type(num)"
      ]
    },
    {
      "cell_type": "code",
      "execution_count": null,
      "id": "0d6065d9",
      "metadata": {
        "id": "0d6065d9",
        "outputId": "2714240a-9377-4e91-de58-0499d71ec354"
      },
      "outputs": [
        {
          "data": {
            "text/plain": [
              "float"
            ]
          },
          "execution_count": 5,
          "metadata": {},
          "output_type": "execute_result"
        }
      ],
      "source": [
        "num1=1.0\n",
        "type(num1)"
      ]
    },
    {
      "cell_type": "code",
      "execution_count": null,
      "id": "8853e977",
      "metadata": {
        "id": "8853e977",
        "outputId": "df5c7a9c-f7fb-47c9-ae80-6d5696592968"
      },
      "outputs": [
        {
          "data": {
            "text/plain": [
              "str"
            ]
          },
          "execution_count": 6,
          "metadata": {},
          "output_type": "execute_result"
        }
      ],
      "source": [
        "num2=\"1\"\n",
        "type(num2)"
      ]
    },
    {
      "cell_type": "code",
      "execution_count": null,
      "id": "9df20749",
      "metadata": {
        "id": "9df20749"
      },
      "outputs": [],
      "source": [
        "**Difference**\n",
        "\n",
        "the value 1 has a class type of int,Int as in an **integer** .\n",
        "the value 1.0 has a class type of **float** .\n",
        "the value \"1\" has a class type \"str\",making it a **string**."
      ]
    },
    {
      "cell_type": "code",
      "execution_count": null,
      "id": "37ce6e43",
      "metadata": {
        "id": "37ce6e43",
        "outputId": "385901f8-d999-4284-8941-5732964e4236"
      },
      "outputs": [
        {
          "name": "stdout",
          "output_type": "stream",
          "text": [
            "Area_of_a_circle=78.50\n"
          ]
        }
      ],
      "source": [
        "#Calculating and Printing Area of a Circle with radius 5 to two decimal places\n",
        "radius =5\n",
        "Pi=3.14\n",
        "Area_of_a_circle=Pi*radius*radius\n",
        "print(\"Area_of_a_circle=%.2f\"%Area_of_a_circle)#printing area of a circle with two decimal places"
      ]
    },
    {
      "cell_type": "code",
      "execution_count": null,
      "id": "d0a7cd69",
      "metadata": {
        "id": "d0a7cd69",
        "outputId": "e22ccddc-93e5-4187-f6de-864e4490c59f"
      },
      "outputs": [
        {
          "name": "stdout",
          "output_type": "stream",
          "text": [
            "9\n",
            "8\n",
            "7\n",
            "6\n",
            "5\n",
            "4\n",
            "3\n",
            "2\n",
            "1\n",
            "0\n"
          ]
        }
      ],
      "source": [
        "#for loop that prints the numbers 9 to 0.\n",
        "for i in range(9,-1,-1):\n",
        "   print(i)\n"
      ]
    },
    {
      "cell_type": "code",
      "execution_count": 2,
      "id": "d14c9b77",
      "metadata": {
        "colab": {
          "base_uri": "https://localhost:8080/"
        },
        "id": "d14c9b77",
        "outputId": "ac7a7588-8bfb-4feb-8661-103ad12ffdcc"
      },
      "outputs": [
        {
          "output_type": "stream",
          "name": "stdout",
          "text": [
            "9\n",
            "11\n",
            "13\n",
            "15\n",
            "17\n",
            "19\n",
            "21\n"
          ]
        }
      ],
      "source": [
        "# for loop that prints all odd numbers from 9 to 21 including both numbers\n",
        "start = 9\n",
        "end= 21\n",
        "for i in range(start,end+1):\n",
        "    if(i%2!=0):\n",
        "        print(i)"
      ]
    },
    {
      "cell_type": "code",
      "execution_count": 3,
      "id": "d910530e",
      "metadata": {
        "colab": {
          "base_uri": "https://localhost:8080/"
        },
        "id": "d910530e",
        "outputId": "de328b32-64a6-462f-e503-08bb17d70388"
      },
      "outputs": [
        {
          "output_type": "stream",
          "name": "stdout",
          "text": [
            "Enter a number:12\n",
            "var is greater than 8\n"
          ]
        }
      ],
      "source": [
        "#a.For Input greater than 8\n",
        "var=int(input(\"Enter a number:\")) \n",
        "\n",
        "if(var>8):\n",
        "    print(\"var is greater than 8\")\n",
        "elif(var<8):\n",
        "    print (\"var is less than 8\")\n",
        "elif(var==8):\n",
        "    print(\"var is equal to 8\")"
      ]
    },
    {
      "cell_type": "code",
      "execution_count": 4,
      "id": "91aacaa4",
      "metadata": {
        "colab": {
          "base_uri": "https://localhost:8080/"
        },
        "id": "91aacaa4",
        "outputId": "2b8dec3d-cc86-4d43-e09a-a0d2ff9a8967"
      },
      "outputs": [
        {
          "output_type": "stream",
          "name": "stdout",
          "text": [
            "Enter a number:2\n",
            "var is less than 9\n"
          ]
        }
      ],
      "source": [
        "#b.For Input less than 9\n",
        "var=int(input(\"Enter a number:\")) \n",
        "\n",
        "if(var>9):\n",
        "    print(\"var is greater than 9\")\n",
        "elif(var<9):\n",
        "    print (\"var is less than 9\")\n",
        "elif(var==9):\n",
        "    print(\"var is equal to 9\")"
      ]
    },
    {
      "cell_type": "code",
      "execution_count": 5,
      "id": "3fc8baa5",
      "metadata": {
        "colab": {
          "base_uri": "https://localhost:8080/"
        },
        "id": "3fc8baa5",
        "outputId": "a9d3ec96-d16c-4f8e-d71a-31ab35607dd0"
      },
      "outputs": [
        {
          "output_type": "stream",
          "name": "stdout",
          "text": [
            "Enter a number:13\n",
            "var is greater than 10\n"
          ]
        }
      ],
      "source": [
        "#c.For Input equal to 10\n",
        "var=int(input(\"Enter a number:\")) \n",
        "\n",
        "if(var>10):\n",
        "    print(\"var is greater than 10\")\n",
        "elif(var<10):\n",
        "    print (\"var is less than 10\")\n",
        "elif(var==10):\n",
        "    print(\"var is equal to 10\")"
      ]
    },
    {
      "cell_type": "code",
      "execution_count": null,
      "id": "8dcae69b",
      "metadata": {
        "id": "8dcae69b",
        "outputId": "e7a37648-82f0-44fc-dc59-3f4b24c0eb1f"
      },
      "outputs": [
        {
          "name": "stdout",
          "output_type": "stream",
          "text": [
            "The type of converted variable is <class 'str'>\n",
            "1\n"
          ]
        }
      ],
      "source": [
        "#function which takes an integer array as parameter, converts into a string, and returns the length of the string. \n",
        "num=5\n",
        "str_value= str(num)\n",
        "#determing the type of converted str_value variable\n",
        "print(\"The type of converted variable is\",type(str_value))\n",
        "#determing the length of string\n",
        "print(len(str_value))\n"
      ]
    },
    {
      "cell_type": "code",
      "execution_count": 6,
      "id": "f347d31f",
      "metadata": {
        "colab": {
          "base_uri": "https://localhost:8080/"
        },
        "id": "f347d31f",
        "outputId": "c0282a3a-6847-4ffe-ea90-29d85e9dea0b"
      },
      "outputs": [
        {
          "output_type": "stream",
          "name": "stdout",
          "text": [
            "enter the value of n:45\n",
            "1\n",
            "3\n",
            "5\n",
            "7\n",
            "9\n",
            "11\n",
            "13\n",
            "15\n",
            "17\n",
            "19\n",
            "21\n",
            "23\n",
            "25\n",
            "27\n",
            "29\n",
            "31\n",
            "33\n",
            "35\n",
            "37\n",
            "39\n",
            "41\n",
            "43\n"
          ]
        }
      ],
      "source": [
        "#function which takes a positive integer n as its parameter, and prints out all odd numbers from 1 to n.\n",
        "def funct(num):\n",
        "    for i in range(1,num):\n",
        "        if(i%2!=0):\n",
        "            print(i)\n",
        "funct(int(input(\"enter the value of n:\")))"
      ]
    },
    {
      "cell_type": "code",
      "execution_count": 7,
      "id": "7b8ac712",
      "metadata": {
        "colab": {
          "base_uri": "https://localhost:8080/"
        },
        "id": "7b8ac712",
        "outputId": "9baa988a-e5d9-453f-ebe6-8b48db60fa2a"
      },
      "outputs": [
        {
          "output_type": "stream",
          "name": "stdout",
          "text": [
            "8\n",
            "Volume of a cube of side 8 is 512\n",
            "Area of a cube of side 8 is 384\n",
            "perimeter of a cube of side 8 is 96\n"
          ]
        }
      ],
      "source": [
        "class cube:\n",
        "    def volumeCube(a):\n",
        "        return (a*a*a)\n",
        "    def areaCube(a):\n",
        "        return(6*a*a)\n",
        "    def perimeter(a):\n",
        "        return(12*a)\n",
        "\n",
        "    a=int(input( ))\n",
        "    print(\"Volume of a cube of side\",a,\"is\", volumeCube(a))\n",
        "    print(\"Area of a cube of side\",a,\"is\", areaCube(a))\n",
        "    print(\"perimeter of a cube of side\",a,\"is\", perimeter(a))\n",
        "\n",
        "    "
      ]
    },
    {
      "cell_type": "code",
      "execution_count": null,
      "id": "4b852a13",
      "metadata": {
        "id": "4b852a13"
      },
      "outputs": [],
      "source": []
    }
  ],
  "metadata": {
    "kernelspec": {
      "display_name": "Python 3 (ipykernel)",
      "language": "python",
      "name": "python3"
    },
    "language_info": {
      "codemirror_mode": {
        "name": "ipython",
        "version": 3
      },
      "file_extension": ".py",
      "mimetype": "text/x-python",
      "name": "python",
      "nbconvert_exporter": "python",
      "pygments_lexer": "ipython3",
      "version": "3.9.12"
    },
    "colab": {
      "provenance": [],
      "include_colab_link": true
    }
  },
  "nbformat": 4,
  "nbformat_minor": 5
}