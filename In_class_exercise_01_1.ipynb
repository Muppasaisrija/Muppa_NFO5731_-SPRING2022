{
  "cells": [
    {
      "cell_type": "markdown",
      "metadata": {
        "id": "view-in-github",
        "colab_type": "text"
      },
      "source": [
        "<a href=\"https://colab.research.google.com/github/Muppasaisrija/Muppa_NFO5731_-SPRING2022/blob/main/In_class_exercise_01_1.ipynb\" target=\"_parent\"><img src=\"https://colab.research.google.com/assets/colab-badge.svg\" alt=\"Open In Colab\"/></a>"
      ]
    },
    {
      "cell_type": "markdown",
      "metadata": {
        "id": "DymRJbxDBCnf"
      },
      "source": [
        "# **The first In-class-exercise (01/25/2022, 40 points in total)**"
      ]
    },
    {
      "cell_type": "markdown",
      "metadata": {
        "id": "03jb4GZsBkBS"
      },
      "source": [
        "(1) Write a Python program to calculate the length of a string. (4 points)"
      ]
    },
    {
      "cell_type": "code",
      "execution_count": 29,
      "metadata": {
        "colab": {
          "base_uri": "https://localhost:8080/"
        },
        "id": "YaGLbSHHB8Ej",
        "outputId": "be6d0266-4a83-4a57-c035-c03b7fb2baf4"
      },
      "outputs": [
        {
          "output_type": "stream",
          "name": "stdout",
          "text": [
            "5\n"
          ]
        }
      ],
      "source": [
        "str=\"srija\"\n",
        "print(len(str))\n"
      ]
    },
    {
      "cell_type": "markdown",
      "metadata": {
        "id": "jJDe71iLB616"
      },
      "source": [
        "(2) Write a Python program to count the number of characters in a string. (4 points)\n",
        "\n",
        "Sample String : 'google.com‘, \n",
        "\n",
        "Expected Result : {'o': 3, 'g': 2, '.': 1, 'e': 1, 'l': 1, 'm': 1, 'c': 1}"
      ]
    },
    {
      "cell_type": "code",
      "execution_count": 6,
      "metadata": {
        "colab": {
          "base_uri": "https://localhost:8080/"
        },
        "id": "MtKskTzbCLaU",
        "outputId": "f077acc7-8dc0-45a3-cd38-f17e4549971b"
      },
      "outputs": [
        {
          "output_type": "stream",
          "name": "stdout",
          "text": [
            "{'p': 2, 'y': 1, 't': 1, 'h': 1, 'o': 2, 'n': 1, ' ': 1, 'r': 2, 'g': 1, 'a': 1, 'm': 1}\n"
          ]
        }
      ],
      "source": [
        "def char_frequency(str1):\n",
        "    dict = {}\n",
        "    for i in str1:\n",
        "        keys = dict.keys()\n",
        "        if i in keys:\n",
        "            dict[i] += 1\n",
        "        else:\n",
        "            dict[i] = 1\n",
        "    return dict\n",
        "print(char_frequency('python program'))\n"
      ]
    },
    {
      "cell_type": "markdown",
      "metadata": {
        "id": "55W9AMdXCSpV"
      },
      "source": [
        "(3) Write a Python program to sum all the items in a list. (4 points)"
      ]
    },
    {
      "cell_type": "code",
      "execution_count": 7,
      "metadata": {
        "colab": {
          "base_uri": "https://localhost:8080/"
        },
        "id": "I57NXsauCec2",
        "outputId": "0e9b7643-fe8c-40e8-b08e-91e1101bbe90"
      },
      "outputs": [
        {
          "output_type": "stream",
          "name": "stdout",
          "text": [
            "Sum of all elements in given list:  32\n"
          ]
        }
      ],
      "source": [
        "listA = [5,6,7,2,8,4]\n",
        " \n",
        "total = sum(listA)\n",
        " \n",
        "print(\"Sum of all elements in given list: \", total)\n"
      ]
    },
    {
      "cell_type": "markdown",
      "metadata": {
        "id": "4ulBZ6yhCi9F"
      },
      "source": [
        "(4) Write a Python program to get a string from a given string where all occurrences of its first char have been changed to '\\$', except the first char itself. (4 points)\n",
        "\n",
        "Sample String : 'restart‘, \n",
        "\n",
        "Expected Result : 'resta\\$t'"
      ]
    },
    {
      "cell_type": "code",
      "execution_count": 8,
      "metadata": {
        "colab": {
          "base_uri": "https://localhost:8080/"
        },
        "id": "Fj0XhwbBCw2o",
        "outputId": "d6b5aeb9-9f56-40fc-cbb0-27387a2e5639"
      },
      "outputs": [
        {
          "output_type": "stream",
          "name": "stdout",
          "text": [
            "cli$k\n"
          ]
        }
      ],
      "source": [
        "def change_char(strA):\n",
        "  char = strA[0]\n",
        "  strA = strA.replace(char, '$')\n",
        "  strA = char + strA[1:]\n",
        "\n",
        "  return strA\n",
        "\n",
        "print(change_char('click'))\n"
      ]
    },
    {
      "cell_type": "markdown",
      "metadata": {
        "id": "_bIP7s1MCzue"
      },
      "source": [
        "(5) Write a program with python which could accept two parameter a and b to calculate and output the result of S, where \n",
        "\n",
        "$\\ S=3.14*(1+a/b)^3$ (4 points)\n",
        "\n"
      ]
    },
    {
      "cell_type": "code",
      "execution_count": 11,
      "metadata": {
        "colab": {
          "base_uri": "https://localhost:8080/"
        },
        "id": "w79QilHXD3Mg",
        "outputId": "cae2f65b-0e82-4688-bc37-ffc856e6ea83"
      },
      "outputs": [
        {
          "output_type": "stream",
          "name": "stdout",
          "text": [
            "value of S 9.463072702331962\n"
          ]
        }
      ],
      "source": [
        "a=4\n",
        "b=9\n",
        "𝑆=3.14*(1+𝑎/𝑏)**3\n",
        "print('value of S', S) "
      ]
    },
    {
      "cell_type": "markdown",
      "metadata": {
        "id": "xCa2bK9aD4Q3"
      },
      "source": [
        "(6) Write a Python program to concatenate following dictionaries to create a new one. (4 points)\n",
        "\n",
        "Sample Dictionary : dic1={1:10, 2:20}, dic2={3:30, 4:40}, dic3={5:50,6:60}, \n",
        "\n",
        "Expected Result : {1: 10, 2: 20, 3: 30, 4: 40, 5: 50, 6: 60}\n"
      ]
    },
    {
      "cell_type": "code",
      "execution_count": 2,
      "metadata": {
        "colab": {
          "base_uri": "https://localhost:8080/"
        },
        "id": "_z4aLqAbEET1",
        "outputId": "ce26b7bf-9291-4a6c-84c3-4a64ccc0030c"
      },
      "outputs": [
        {
          "output_type": "stream",
          "name": "stdout",
          "text": [
            "{1: 10, 2: 20, 3: 30, 4: 40, 5: 50, 6: 60}\n"
          ]
        }
      ],
      "source": [
        "dic1={1:10, 2:20}\n",
        "dic2={3:30, 4:40}\n",
        "dic3={5:50,6:60}\n",
        "result = {}\n",
        "for d in (dic1, dic2, dic3): result.update(d)\n",
        "print(dic4)\n"
      ]
    },
    {
      "cell_type": "markdown",
      "metadata": {
        "id": "0v48Vqa7FrQh"
      },
      "source": [
        "(7) Write a Python program to check whether an element exists within a tuple. (4 points)"
      ]
    },
    {
      "cell_type": "code",
      "execution_count": 18,
      "metadata": {
        "colab": {
          "base_uri": "https://localhost:8080/"
        },
        "id": "7WEmgq-DF2P1",
        "outputId": "0bd83a07-d3aa-4f73-bb55-54213468f947"
      },
      "outputs": [
        {
          "output_type": "stream",
          "name": "stdout",
          "text": [
            "True\n"
          ]
        }
      ],
      "source": [
        "tupleA=(\"T\",\"PYTHON\",\"5\",\"SRIJA\",\"K\",\"9\")\n",
        "print(\"SRIJA\" in tupleA)\n"
      ]
    },
    {
      "cell_type": "markdown",
      "metadata": {
        "id": "vD5PYLMuGga_"
      },
      "source": [
        "(8) Write a Python program to find maximum and the minimum value in a set. (4 points)"
      ]
    },
    {
      "cell_type": "code",
      "execution_count": 28,
      "metadata": {
        "colab": {
          "base_uri": "https://localhost:8080/"
        },
        "id": "t0D5kdJUGjjw",
        "outputId": "c6a42d39-7288-4f30-d826-f2f9bb46d711"
      },
      "outputs": [
        {
          "output_type": "stream",
          "name": "stdout",
          "text": [
            "9\n",
            "1\n"
          ]
        }
      ],
      "source": [
        "setA=[3,5,7,2,1,9,4,8];\n",
        "print(max(setA))\n",
        "print(min(setA))\n"
      ]
    },
    {
      "cell_type": "markdown",
      "metadata": {
        "id": "uHkd-y5VhVWC"
      },
      "source": [
        "(9) Write a Python program to randomly divide the students in this class into six groups for term projects, each group should have at least 4 students but no more than 6 students (including 6). Here is the students list: (4 points)\n",
        "\n",
        "studnet_list = ['ja0964','sa1198','sb1357','vb0218','sc1229','kg0569','kg0470','sg1297','bg0320','fh0141','jl1252','sk1386',\n",
        "           'ak0956','sk1390','sk1458','sk1313','ak0934','vm0377','nm0618','sm1640','sm1907','gn0108','pr0353','dr0609','ms1500','aos0040','ds0814', 'av0659','nv0234','hy0232']"
      ]
    },
    {
      "cell_type": "code",
      "execution_count": 33,
      "metadata": {
        "colab": {
          "base_uri": "https://localhost:8080/"
        },
        "id": "3iGbmcOBhTwy",
        "outputId": "43e0293c-f335-4e94-cb8b-d90c921b4b9f"
      },
      "outputs": [
        {
          "output_type": "stream",
          "name": "stdout",
          "text": [
            "['ja0964', 'sa1198', 'sb1357', 'vb0218', 'sc1229', 'kg0569']\n",
            "['kg0470', 'sg1297', 'bg0320', 'fh0141', 'jl1252', 'sk1386']\n",
            "['ak0956', 'sk1390', 'sk1458', 'sk1313', 'ak0934', 'vm0377']\n",
            "['nm0618', 'sm1640', 'sm1907', 'gn0108', 'pr0353', 'dr0609']\n",
            "['ms1500', 'aos0040', 'ds0814', 'av0659', 'nv0234', 'hy0232']\n"
          ]
        }
      ],
      "source": [
        "import numpy as np\n",
        "student_list = ['ja0964','sa1198','sb1357','vb0218','sc1229','kg0569','kg0470','sg1297','bg0320','fh0141','jl1252','sk1386', 'ak0956','sk1390','sk1458','sk1313','ak0934','vm0377','nm0618','sm1640','sm1907','gn0108','pr0353','dr0609','ms1500','aos0040','ds0814', 'av0659','nv0234','hy0232']\n",
        "split=np.array_split(student_list,5)\n",
        "for array in split:\n",
        "    print(list(array))\n"
      ]
    },
    {
      "cell_type": "markdown",
      "metadata": {
        "id": "Zr5DbIfhb4me"
      },
      "source": [
        "(10) Write a Python program to find the duplicate elements in a given array of integers. Return -1 If there are no such elements. (4 points)"
      ]
    },
    {
      "cell_type": "code",
      "execution_count": 20,
      "metadata": {
        "colab": {
          "base_uri": "https://localhost:8080/"
        },
        "id": "aR1vPks3b4mf",
        "outputId": "5b313127-2bc4-493e-ffb4-bf3a562c3062"
      },
      "outputs": [
        {
          "output_type": "stream",
          "name": "stdout",
          "text": [
            "0\n",
            "-1\n",
            "8\n"
          ]
        }
      ],
      "source": [
        "def find_duplicate(nums):\n",
        "    num_set = set()\n",
        "    no_duplicate = -1\n",
        "\n",
        "    for k in range(len(nums)):\n",
        "\n",
        "        if nums[k] in num_set:\n",
        "            return nums[k]\n",
        "        else:\n",
        "            num_set.add(nums[k])\n",
        "\n",
        "    return no_duplicate\n",
        "\n",
        "print(find_duplicate([9, 0, 2, 6, 0, 7]))\n",
        "print(find_duplicate([9, 4, 6, 2]))\n",
        "print(find_duplicate([8, 8, 4, 3, 6, 2, 1]))\n",
        "\n"
      ]
    },
    {
      "cell_type": "markdown",
      "metadata": {
        "id": "ytT6lIWRb4mg"
      },
      "source": [
        "(11) Write a Python program to select all the Sundays of a specified year. (4 extra points)"
      ]
    },
    {
      "cell_type": "code",
      "execution_count": 27,
      "metadata": {
        "colab": {
          "base_uri": "https://localhost:8080/"
        },
        "id": "GXm5mY2nb4mg",
        "outputId": "c3417fc4-2cfe-410a-91d9-8fed1db9515e"
      },
      "outputs": [
        {
          "output_type": "execute_result",
          "data": {
            "text/plain": [
              "['01/01/2012',\n",
              " '01/08/2012',\n",
              " '01/15/2012',\n",
              " '01/22/2012',\n",
              " '01/29/2012',\n",
              " '02/05/2012',\n",
              " '02/12/2012',\n",
              " '02/19/2012',\n",
              " '02/26/2012',\n",
              " '03/04/2012',\n",
              " '03/11/2012',\n",
              " '03/18/2012',\n",
              " '03/25/2012',\n",
              " '04/01/2012',\n",
              " '04/08/2012',\n",
              " '04/15/2012',\n",
              " '04/22/2012',\n",
              " '04/29/2012',\n",
              " '05/06/2012',\n",
              " '05/13/2012',\n",
              " '05/20/2012',\n",
              " '05/27/2012',\n",
              " '06/03/2012',\n",
              " '06/10/2012',\n",
              " '06/17/2012',\n",
              " '06/24/2012',\n",
              " '07/01/2012',\n",
              " '07/08/2012',\n",
              " '07/15/2012',\n",
              " '07/22/2012',\n",
              " '07/29/2012',\n",
              " '08/05/2012',\n",
              " '08/12/2012',\n",
              " '08/19/2012',\n",
              " '08/26/2012',\n",
              " '09/02/2012',\n",
              " '09/09/2012',\n",
              " '09/16/2012',\n",
              " '09/23/2012',\n",
              " '09/30/2012',\n",
              " '10/07/2012',\n",
              " '10/14/2012',\n",
              " '10/21/2012',\n",
              " '10/28/2012',\n",
              " '11/04/2012',\n",
              " '11/11/2012',\n",
              " '11/18/2012',\n",
              " '11/25/2012',\n",
              " '12/02/2012',\n",
              " '12/09/2012',\n",
              " '12/16/2012',\n",
              " '12/23/2012',\n",
              " '12/30/2012']"
            ]
          },
          "metadata": {},
          "execution_count": 27
        }
      ],
      "source": [
        "import pandas as pd\n",
        "\n",
        "def allsundays(year):\n",
        "    return pd.date_range(start=str(year), end=str(year+1), \n",
        "                         freq='W-SUN').strftime('%m/%d/%Y').tolist()\n",
        "\n",
        "allsundays(2012)"
      ]
    }
  ],
  "metadata": {
    "colab": {
      "collapsed_sections": [],
      "name": "In_class_exercise_01-1.ipynb",
      "provenance": [],
      "include_colab_link": true
    },
    "kernelspec": {
      "display_name": "Python 3",
      "language": "python",
      "name": "python3"
    },
    "language_info": {
      "codemirror_mode": {
        "name": "ipython",
        "version": 3
      },
      "file_extension": ".py",
      "mimetype": "text/x-python",
      "name": "python",
      "nbconvert_exporter": "python",
      "pygments_lexer": "ipython3",
      "version": "3.8.5"
    }
  },
  "nbformat": 4,
  "nbformat_minor": 0
}